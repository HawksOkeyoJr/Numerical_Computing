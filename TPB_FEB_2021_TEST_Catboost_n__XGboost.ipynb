{
  "nbformat": 4,
  "nbformat_minor": 0,
  "metadata": {
    "colab": {
      "name": "TPB_FEB_2021_TEST_Catboost_n_ XGboost.ipynb",
      "provenance": [],
      "toc_visible": true,
      "authorship_tag": "ABX9TyMRJCB+iKYAolqlY8RxzeHe",
      "include_colab_link": true
    },
    "kernelspec": {
      "name": "python3",
      "display_name": "Python 3"
    },
    "accelerator": "GPU"
  },
  "cells": [
    {
      "cell_type": "markdown",
      "metadata": {
        "id": "view-in-github",
        "colab_type": "text"
      },
      "source": [
        "<a href=\"https://colab.research.google.com/github/HawksOkeyoJr/Numerical_Computing/blob/master/TPB_FEB_2021_TEST_Catboost_n__XGboost.ipynb\" target=\"_parent\"><img src=\"https://colab.research.google.com/assets/colab-badge.svg\" alt=\"Open In Colab\"/></a>"
      ]
    },
    {
      "cell_type": "code",
      "metadata": {
        "id": "OLmteIH8eIbi"
      },
      "source": [
        ""
      ],
      "execution_count": null,
      "outputs": []
    },
    {
      "cell_type": "code",
      "metadata": {
        "id": "U4upqWy9VuZ7",
        "colab": {
          "base_uri": "https://localhost:8080/"
        },
        "outputId": "f259f3b8-a5e3-4257-d7ba-8c822ceb7960"
      },
      "source": [
        "!pip install --no-warn-conflicts -q --upgrade xgboost"
      ],
      "execution_count": null,
      "outputs": [
        {
          "output_type": "stream",
          "text": [
            "\u001b[K     |████████████████████████████████| 157.5MB 95kB/s \n",
            "\u001b[?25h"
          ],
          "name": "stdout"
        }
      ]
    },
    {
      "cell_type": "code",
      "metadata": {
        "id": "QV3f868MZI3H",
        "colab": {
          "base_uri": "https://localhost:8080/"
        },
        "outputId": "8e520803-840e-4264-c701-d0830359929d"
      },
      "source": [
        "!pip install --no-warn-conflicts -q --upgrade catboost"
      ],
      "execution_count": null,
      "outputs": [
        {
          "output_type": "stream",
          "text": [
            "\u001b[K     |████████████████████████████████| 65.7MB 50kB/s \n",
            "\u001b[?25h"
          ],
          "name": "stdout"
        }
      ]
    },
    {
      "cell_type": "code",
      "metadata": {
        "id": "FQqBhT_3V-11"
      },
      "source": [
        "from sklearn.metrics import mean_squared_error\r\n",
        "from sklearn.preprocessing import LabelEncoder\r\n",
        "from catboost import CatBoostRegressor, Pool\r\n",
        "from sklearn.model_selection import KFold\r\n",
        "from lightgbm import LGBMRegressor\r\n",
        "import matplotlib.pyplot as plt\r\n",
        "from functools import partial\r\n",
        "from xgboost import DMatrix\r\n",
        "import lightgbm as lgbm\r\n",
        "import xgboost as xgb \r\n",
        "import seaborn as sns\r\n",
        "import pandas as pd\r\n",
        "import numpy as np\r\n",
        "import warnings\r\n",
        "\r\n",
        "warnings.filterwarnings('ignore')"
      ],
      "execution_count": null,
      "outputs": []
    },
    {
      "cell_type": "code",
      "metadata": {
        "id": "DGgc9G1fWB12"
      },
      "source": [
        "#train = pd.read_csv('../input/tabular-playground-series-feb-2021/train.csv')\r\n",
        "#test = pd.read_csv('../input/tabular-playground-series-feb-2021/test.csv')"
      ],
      "execution_count": null,
      "outputs": []
    },
    {
      "cell_type": "code",
      "metadata": {
        "id": "pAi-SRygJIGH"
      },
      "source": [
        "!pip install opendatasets --upgrade --quiet\r\n",
        "import opendatasets as od\r\n",
        "#!kaggle competitions download -c tabular-playground-series-feb-2021\r\n",
        "dataset_url = 'https://www.kaggle.com/c/tabular-playground-series-feb-2021'#/data'"
      ],
      "execution_count": null,
      "outputs": []
    },
    {
      "cell_type": "code",
      "metadata": {
        "colab": {
          "base_uri": "https://localhost:8080/"
        },
        "id": "ciURP9U3JSDk",
        "outputId": "001731f4-fcc6-400a-ab2c-1cb037ab1609"
      },
      "source": [
        " # WIth the kaggle key downloaded and set on your working directory, \r\n",
        "# the username and key will be picked autmatically\r\n",
        "od.download(dataset_url)"
      ],
      "execution_count": null,
      "outputs": [
        {
          "output_type": "stream",
          "text": [
            "  8%|▊         | 5.00M/65.7M [00:00<00:01, 41.4MB/s]"
          ],
          "name": "stderr"
        },
        {
          "output_type": "stream",
          "text": [
            "Downloading tabular-playground-series-feb-2021.zip to ./tabular-playground-series-feb-2021\n"
          ],
          "name": "stdout"
        },
        {
          "output_type": "stream",
          "text": [
            "100%|██████████| 65.7M/65.7M [00:00<00:00, 125MB/s] "
          ],
          "name": "stderr"
        },
        {
          "output_type": "stream",
          "text": [
            "\n"
          ],
          "name": "stdout"
        },
        {
          "output_type": "stream",
          "text": [
            "\n"
          ],
          "name": "stderr"
        }
      ]
    },
    {
      "cell_type": "code",
      "metadata": {
        "id": "KS42XAoI_fvB"
      },
      "source": [
        "# Extract from archive\r\n",
        "#with tarfile.open('/tabular-playground-series-feb-2021/tabular-playground-series-feb-2021.zip', 'r:gz') as tar:\r\n",
        "#    tar.extractall(path='./data')\r\n",
        "path_to_zip_file = '/content/tabular-playground-series-feb-2021/tabular-playground-series-feb-2021.zip'\r\n",
        "\r\n",
        "import zipfile\r\n",
        "with zipfile.ZipFile(path_to_zip_file, 'r') as zip_ref:\r\n",
        "    zip_ref.extractall('.')\r\n"
      ],
      "execution_count": null,
      "outputs": []
    },
    {
      "cell_type": "code",
      "metadata": {
        "id": "3WqTOwcXA15j"
      },
      "source": [
        "# Look into the data directory\r\n",
        "#data_dir = './data/cifar10'\r\n",
        "#print(os.listdir(data_dir))\r\n",
        "#classes = os.listdir(data_dir + \"/train\")\r\n",
        "#print(classes)\r\n",
        "train_set = 'train.csv'\r\n",
        "test_set = 'test.csv'"
      ],
      "execution_count": null,
      "outputs": []
    },
    {
      "cell_type": "code",
      "metadata": {
        "colab": {
          "base_uri": "https://localhost:8080/",
          "height": 255
        },
        "id": "kXncSCPO-tyS",
        "outputId": "28b3d5e8-92da-4d07-b836-051dc5a42e81"
      },
      "source": [
        "# Download the data\r\n",
        "dataframe_train = pd.read_csv(train_set, index_col=0)\r\n",
        "dataframe_test = pd.read_csv(test_set, index_col=0)\r\n",
        "dataframe_train.head()"
      ],
      "execution_count": null,
      "outputs": [
        {
          "output_type": "execute_result",
          "data": {
            "text/html": [
              "<div>\n",
              "<style scoped>\n",
              "    .dataframe tbody tr th:only-of-type {\n",
              "        vertical-align: middle;\n",
              "    }\n",
              "\n",
              "    .dataframe tbody tr th {\n",
              "        vertical-align: top;\n",
              "    }\n",
              "\n",
              "    .dataframe thead th {\n",
              "        text-align: right;\n",
              "    }\n",
              "</style>\n",
              "<table border=\"1\" class=\"dataframe\">\n",
              "  <thead>\n",
              "    <tr style=\"text-align: right;\">\n",
              "      <th></th>\n",
              "      <th>cat0</th>\n",
              "      <th>cat1</th>\n",
              "      <th>cat2</th>\n",
              "      <th>cat3</th>\n",
              "      <th>cat4</th>\n",
              "      <th>cat5</th>\n",
              "      <th>cat6</th>\n",
              "      <th>cat7</th>\n",
              "      <th>cat8</th>\n",
              "      <th>cat9</th>\n",
              "      <th>cont0</th>\n",
              "      <th>cont1</th>\n",
              "      <th>cont2</th>\n",
              "      <th>cont3</th>\n",
              "      <th>cont4</th>\n",
              "      <th>cont5</th>\n",
              "      <th>cont6</th>\n",
              "      <th>cont7</th>\n",
              "      <th>cont8</th>\n",
              "      <th>cont9</th>\n",
              "      <th>cont10</th>\n",
              "      <th>cont11</th>\n",
              "      <th>cont12</th>\n",
              "      <th>cont13</th>\n",
              "      <th>target</th>\n",
              "    </tr>\n",
              "    <tr>\n",
              "      <th>id</th>\n",
              "      <th></th>\n",
              "      <th></th>\n",
              "      <th></th>\n",
              "      <th></th>\n",
              "      <th></th>\n",
              "      <th></th>\n",
              "      <th></th>\n",
              "      <th></th>\n",
              "      <th></th>\n",
              "      <th></th>\n",
              "      <th></th>\n",
              "      <th></th>\n",
              "      <th></th>\n",
              "      <th></th>\n",
              "      <th></th>\n",
              "      <th></th>\n",
              "      <th></th>\n",
              "      <th></th>\n",
              "      <th></th>\n",
              "      <th></th>\n",
              "      <th></th>\n",
              "      <th></th>\n",
              "      <th></th>\n",
              "      <th></th>\n",
              "      <th></th>\n",
              "    </tr>\n",
              "  </thead>\n",
              "  <tbody>\n",
              "    <tr>\n",
              "      <th>1</th>\n",
              "      <td>A</td>\n",
              "      <td>B</td>\n",
              "      <td>A</td>\n",
              "      <td>A</td>\n",
              "      <td>B</td>\n",
              "      <td>D</td>\n",
              "      <td>A</td>\n",
              "      <td>E</td>\n",
              "      <td>C</td>\n",
              "      <td>I</td>\n",
              "      <td>0.923191</td>\n",
              "      <td>0.684968</td>\n",
              "      <td>0.124454</td>\n",
              "      <td>0.217886</td>\n",
              "      <td>0.281421</td>\n",
              "      <td>0.881122</td>\n",
              "      <td>0.421650</td>\n",
              "      <td>0.741413</td>\n",
              "      <td>0.895799</td>\n",
              "      <td>0.802461</td>\n",
              "      <td>0.724417</td>\n",
              "      <td>0.701915</td>\n",
              "      <td>0.877618</td>\n",
              "      <td>0.719903</td>\n",
              "      <td>6.994023</td>\n",
              "    </tr>\n",
              "    <tr>\n",
              "      <th>2</th>\n",
              "      <td>B</td>\n",
              "      <td>A</td>\n",
              "      <td>A</td>\n",
              "      <td>A</td>\n",
              "      <td>B</td>\n",
              "      <td>B</td>\n",
              "      <td>A</td>\n",
              "      <td>E</td>\n",
              "      <td>A</td>\n",
              "      <td>F</td>\n",
              "      <td>0.437627</td>\n",
              "      <td>0.014213</td>\n",
              "      <td>0.357438</td>\n",
              "      <td>0.846127</td>\n",
              "      <td>0.282354</td>\n",
              "      <td>0.440011</td>\n",
              "      <td>0.346230</td>\n",
              "      <td>0.278495</td>\n",
              "      <td>0.593413</td>\n",
              "      <td>0.546056</td>\n",
              "      <td>0.613252</td>\n",
              "      <td>0.741289</td>\n",
              "      <td>0.326679</td>\n",
              "      <td>0.808464</td>\n",
              "      <td>8.071256</td>\n",
              "    </tr>\n",
              "    <tr>\n",
              "      <th>3</th>\n",
              "      <td>A</td>\n",
              "      <td>A</td>\n",
              "      <td>A</td>\n",
              "      <td>C</td>\n",
              "      <td>B</td>\n",
              "      <td>D</td>\n",
              "      <td>A</td>\n",
              "      <td>B</td>\n",
              "      <td>C</td>\n",
              "      <td>N</td>\n",
              "      <td>0.732209</td>\n",
              "      <td>0.760122</td>\n",
              "      <td>0.454644</td>\n",
              "      <td>0.812990</td>\n",
              "      <td>0.293756</td>\n",
              "      <td>0.914155</td>\n",
              "      <td>0.369602</td>\n",
              "      <td>0.832564</td>\n",
              "      <td>0.865620</td>\n",
              "      <td>0.825251</td>\n",
              "      <td>0.264104</td>\n",
              "      <td>0.695561</td>\n",
              "      <td>0.869133</td>\n",
              "      <td>0.828352</td>\n",
              "      <td>5.760456</td>\n",
              "    </tr>\n",
              "    <tr>\n",
              "      <th>4</th>\n",
              "      <td>A</td>\n",
              "      <td>A</td>\n",
              "      <td>A</td>\n",
              "      <td>C</td>\n",
              "      <td>B</td>\n",
              "      <td>D</td>\n",
              "      <td>A</td>\n",
              "      <td>E</td>\n",
              "      <td>G</td>\n",
              "      <td>K</td>\n",
              "      <td>0.705142</td>\n",
              "      <td>0.771678</td>\n",
              "      <td>0.153735</td>\n",
              "      <td>0.732893</td>\n",
              "      <td>0.769785</td>\n",
              "      <td>0.934138</td>\n",
              "      <td>0.578930</td>\n",
              "      <td>0.407313</td>\n",
              "      <td>0.868099</td>\n",
              "      <td>0.794402</td>\n",
              "      <td>0.494269</td>\n",
              "      <td>0.698125</td>\n",
              "      <td>0.809799</td>\n",
              "      <td>0.614766</td>\n",
              "      <td>7.806457</td>\n",
              "    </tr>\n",
              "    <tr>\n",
              "      <th>6</th>\n",
              "      <td>A</td>\n",
              "      <td>B</td>\n",
              "      <td>A</td>\n",
              "      <td>A</td>\n",
              "      <td>B</td>\n",
              "      <td>B</td>\n",
              "      <td>A</td>\n",
              "      <td>E</td>\n",
              "      <td>C</td>\n",
              "      <td>F</td>\n",
              "      <td>0.486063</td>\n",
              "      <td>0.639349</td>\n",
              "      <td>0.496212</td>\n",
              "      <td>0.354186</td>\n",
              "      <td>0.279105</td>\n",
              "      <td>0.382600</td>\n",
              "      <td>0.705940</td>\n",
              "      <td>0.325193</td>\n",
              "      <td>0.440967</td>\n",
              "      <td>0.462146</td>\n",
              "      <td>0.724447</td>\n",
              "      <td>0.683073</td>\n",
              "      <td>0.343457</td>\n",
              "      <td>0.297743</td>\n",
              "      <td>6.868974</td>\n",
              "    </tr>\n",
              "  </tbody>\n",
              "</table>\n",
              "</div>"
            ],
            "text/plain": [
              "   cat0 cat1 cat2 cat3 cat4  ...    cont10    cont11    cont12    cont13    target\n",
              "id                           ...                                                  \n",
              "1     A    B    A    A    B  ...  0.724417  0.701915  0.877618  0.719903  6.994023\n",
              "2     B    A    A    A    B  ...  0.613252  0.741289  0.326679  0.808464  8.071256\n",
              "3     A    A    A    C    B  ...  0.264104  0.695561  0.869133  0.828352  5.760456\n",
              "4     A    A    A    C    B  ...  0.494269  0.698125  0.809799  0.614766  7.806457\n",
              "6     A    B    A    A    B  ...  0.724447  0.683073  0.343457  0.297743  6.868974\n",
              "\n",
              "[5 rows x 25 columns]"
            ]
          },
          "metadata": {
            "tags": []
          },
          "execution_count": 9
        }
      ]
    },
    {
      "cell_type": "markdown",
      "metadata": {
        "id": "LPnTpOfMRm3W"
      },
      "source": [
        "## Categorical values supression"
      ]
    },
    {
      "cell_type": "code",
      "metadata": {
        "id": "5Vw17jFNRZBd"
      },
      "source": [
        "dataframe_train['cat3'] = dataframe_train.cat3.map(lambda x: 'D' if x == 'B' else x )\r\n",
        "dataframe_test['cat3'] = dataframe_test.cat3.map(lambda x: 'D' if x == 'B' else x )\r\n",
        "#\r\n",
        "dataframe_train['cat4'] = dataframe_train.cat4.map(lambda x: 'A' if x == 'D' or x=='C' else x )\r\n",
        "dataframe_test['cat4'] = dataframe_test.cat4.map(lambda x: 'A' if x == 'D' or x=='C' else x)\r\n",
        "#\r\n",
        "dataframe_train['cat5'] = dataframe_train.cat5.map(lambda x: 'C' if x == ('A') else x)\r\n",
        "dataframe_test['cat5'] = dataframe_test.cat5.map(lambda x: 'C' if x == ('A') else x)\r\n",
        "#\r\n",
        "dataframe_train['cat6'] = dataframe_train.cat6.map(lambda x: 'B' if x == 'D' or x=='C' or x=='E' or x=='I' or x=='G' or x=='H' else x)\r\n",
        "dataframe_test['cat6'] = dataframe_test.cat6.map(lambda x: 'B' if x == 'D' or x=='C' or x=='E' or x=='I' or x=='G' or x=='H' else x)\r\n",
        "#\r\n",
        "dataframe_train['cat7'] = dataframe_train.cat7.map(lambda x: 'D' if x == 'B' or x=='G' or x=='F' or x=='A' or x=='C' or x=='I' else x)\r\n",
        "dataframe_test['cat7'] = dataframe_test.cat7.map(lambda x: 'D' if x == 'B' or x=='G' or x=='F' or x=='A' or x=='C' or x=='I' else x)\r\n",
        "#\r\n",
        "dataframe_train['cat8'] = dataframe_train.cat8.map(lambda x: 'E' if x == 'B' or x=='F' or x=='D' else x)\r\n",
        "dataframe_test['cat8'] = dataframe_test.cat8.map(lambda x: 'E' if x == 'B' or x=='F' or x=='D' else x)\r\n",
        "#\r\n",
        "dataframe_train['cat9'] = dataframe_train.cat9.map(lambda x: 'B' if x == 'C' or x=='E' or x=='D' else x)\r\n",
        "dataframe_test['cat9'] = dataframe_test.cat9.map(lambda x: 'B' if x == 'C' or x=='E' or x=='D' else x)"
      ],
      "execution_count": null,
      "outputs": []
    },
    {
      "cell_type": "code",
      "metadata": {
        "id": "uLG9ncfZFxXX"
      },
      "source": [
        "train = dataframe_train.copy()\r\n",
        "test = dataframe_test.copy()"
      ],
      "execution_count": null,
      "outputs": []
    },
    {
      "cell_type": "code",
      "metadata": {
        "colab": {
          "base_uri": "https://localhost:8080/",
          "height": 761
        },
        "id": "UDemrSk3RlAC",
        "outputId": "8b92f748-ca0e-43fc-8671-b56cf8c8677c"
      },
      "source": [
        "num_rows, num_cols = 3,4\r\n",
        "f, axes = plt.subplots(nrows=num_rows, ncols=num_cols, figsize=(24, 12))\r\n",
        "#f.suptitle('Distribution of Features', fontsize=16)\r\n",
        "\r\n",
        "for index, column in enumerate([feature for feature in train.columns if 'cat' in feature]):\r\n",
        "    i,j = (index // num_cols, index % num_cols)\r\n",
        "    sns.histplot(x=column, data=dataframe_train, ax=axes[i,j], color='b')\r\n",
        "    sns.histplot(x=column, data=dataframe_test, ax=axes[i,j], color='r')\r\n",
        "\r\n",
        "f.delaxes(axes[2, 2])\r\n",
        "f.delaxes(axes[2, 3])\r\n",
        "plt.tight_layout()\r\n",
        "plt.show()"
      ],
      "execution_count": null,
      "outputs": [
        {
          "output_type": "display_data",
          "data": {
            "image/png": "[encoded data removed]",
            "text/plain": [
              "<Figure size 1728x864 with 10 Axes>"
            ]
          },
          "metadata": {
            "tags": [],
            "needs_background": "light"
          }
        }
      ]
    },
    {
      "cell_type": "code",
      "metadata": {
        "id": "RF52FLF8cb8F"
      },
      "source": [
        "train = train.drop(['cat4', 'cat6'], axis=1)\r\n",
        "test = test.drop(['cat4', 'cat6'], axis=1)"
      ],
      "execution_count": null,
      "outputs": []
    },
    {
      "cell_type": "code",
      "metadata": {
        "colab": {
          "base_uri": "https://localhost:8080/",
          "height": 235
        },
        "id": "RNw7jGwgYgPf",
        "outputId": "93847362-4d03-49ed-edbb-58245fc3ebe0"
      },
      "source": [
        "train.head()"
      ],
      "execution_count": null,
      "outputs": [
        {
          "output_type": "execute_result",
          "data": {
            "text/html": [
              "<div>\n",
              "<style scoped>\n",
              "    .dataframe tbody tr th:only-of-type {\n",
              "        vertical-align: middle;\n",
              "    }\n",
              "\n",
              "    .dataframe tbody tr th {\n",
              "        vertical-align: top;\n",
              "    }\n",
              "\n",
              "    .dataframe thead th {\n",
              "        text-align: right;\n",
              "    }\n",
              "</style>\n",
              "<table border=\"1\" class=\"dataframe\">\n",
              "  <thead>\n",
              "    <tr style=\"text-align: right;\">\n",
              "      <th></th>\n",
              "      <th>cat0</th>\n",
              "      <th>cat1</th>\n",
              "      <th>cat2</th>\n",
              "      <th>cat3</th>\n",
              "      <th>cat5</th>\n",
              "      <th>cat7</th>\n",
              "      <th>cat8</th>\n",
              "      <th>cat9</th>\n",
              "      <th>cont0</th>\n",
              "      <th>cont1</th>\n",
              "      <th>cont2</th>\n",
              "      <th>cont3</th>\n",
              "      <th>cont4</th>\n",
              "      <th>cont5</th>\n",
              "      <th>cont6</th>\n",
              "      <th>cont7</th>\n",
              "      <th>cont8</th>\n",
              "      <th>cont9</th>\n",
              "      <th>cont10</th>\n",
              "      <th>cont11</th>\n",
              "      <th>cont12</th>\n",
              "      <th>cont13</th>\n",
              "      <th>target</th>\n",
              "    </tr>\n",
              "    <tr>\n",
              "      <th>id</th>\n",
              "      <th></th>\n",
              "      <th></th>\n",
              "      <th></th>\n",
              "      <th></th>\n",
              "      <th></th>\n",
              "      <th></th>\n",
              "      <th></th>\n",
              "      <th></th>\n",
              "      <th></th>\n",
              "      <th></th>\n",
              "      <th></th>\n",
              "      <th></th>\n",
              "      <th></th>\n",
              "      <th></th>\n",
              "      <th></th>\n",
              "      <th></th>\n",
              "      <th></th>\n",
              "      <th></th>\n",
              "      <th></th>\n",
              "      <th></th>\n",
              "      <th></th>\n",
              "      <th></th>\n",
              "      <th></th>\n",
              "    </tr>\n",
              "  </thead>\n",
              "  <tbody>\n",
              "    <tr>\n",
              "      <th>1</th>\n",
              "      <td>A</td>\n",
              "      <td>B</td>\n",
              "      <td>A</td>\n",
              "      <td>A</td>\n",
              "      <td>D</td>\n",
              "      <td>E</td>\n",
              "      <td>C</td>\n",
              "      <td>I</td>\n",
              "      <td>0.923191</td>\n",
              "      <td>0.684968</td>\n",
              "      <td>0.124454</td>\n",
              "      <td>0.217886</td>\n",
              "      <td>0.281421</td>\n",
              "      <td>0.881122</td>\n",
              "      <td>0.421650</td>\n",
              "      <td>0.741413</td>\n",
              "      <td>0.895799</td>\n",
              "      <td>0.802461</td>\n",
              "      <td>0.724417</td>\n",
              "      <td>0.701915</td>\n",
              "      <td>0.877618</td>\n",
              "      <td>0.719903</td>\n",
              "      <td>6.994023</td>\n",
              "    </tr>\n",
              "    <tr>\n",
              "      <th>2</th>\n",
              "      <td>B</td>\n",
              "      <td>A</td>\n",
              "      <td>A</td>\n",
              "      <td>A</td>\n",
              "      <td>B</td>\n",
              "      <td>E</td>\n",
              "      <td>A</td>\n",
              "      <td>F</td>\n",
              "      <td>0.437627</td>\n",
              "      <td>0.014213</td>\n",
              "      <td>0.357438</td>\n",
              "      <td>0.846127</td>\n",
              "      <td>0.282354</td>\n",
              "      <td>0.440011</td>\n",
              "      <td>0.346230</td>\n",
              "      <td>0.278495</td>\n",
              "      <td>0.593413</td>\n",
              "      <td>0.546056</td>\n",
              "      <td>0.613252</td>\n",
              "      <td>0.741289</td>\n",
              "      <td>0.326679</td>\n",
              "      <td>0.808464</td>\n",
              "      <td>8.071256</td>\n",
              "    </tr>\n",
              "    <tr>\n",
              "      <th>3</th>\n",
              "      <td>A</td>\n",
              "      <td>A</td>\n",
              "      <td>A</td>\n",
              "      <td>C</td>\n",
              "      <td>D</td>\n",
              "      <td>D</td>\n",
              "      <td>C</td>\n",
              "      <td>N</td>\n",
              "      <td>0.732209</td>\n",
              "      <td>0.760122</td>\n",
              "      <td>0.454644</td>\n",
              "      <td>0.812990</td>\n",
              "      <td>0.293756</td>\n",
              "      <td>0.914155</td>\n",
              "      <td>0.369602</td>\n",
              "      <td>0.832564</td>\n",
              "      <td>0.865620</td>\n",
              "      <td>0.825251</td>\n",
              "      <td>0.264104</td>\n",
              "      <td>0.695561</td>\n",
              "      <td>0.869133</td>\n",
              "      <td>0.828352</td>\n",
              "      <td>5.760456</td>\n",
              "    </tr>\n",
              "    <tr>\n",
              "      <th>4</th>\n",
              "      <td>A</td>\n",
              "      <td>A</td>\n",
              "      <td>A</td>\n",
              "      <td>C</td>\n",
              "      <td>D</td>\n",
              "      <td>E</td>\n",
              "      <td>G</td>\n",
              "      <td>K</td>\n",
              "      <td>0.705142</td>\n",
              "      <td>0.771678</td>\n",
              "      <td>0.153735</td>\n",
              "      <td>0.732893</td>\n",
              "      <td>0.769785</td>\n",
              "      <td>0.934138</td>\n",
              "      <td>0.578930</td>\n",
              "      <td>0.407313</td>\n",
              "      <td>0.868099</td>\n",
              "      <td>0.794402</td>\n",
              "      <td>0.494269</td>\n",
              "      <td>0.698125</td>\n",
              "      <td>0.809799</td>\n",
              "      <td>0.614766</td>\n",
              "      <td>7.806457</td>\n",
              "    </tr>\n",
              "    <tr>\n",
              "      <th>6</th>\n",
              "      <td>A</td>\n",
              "      <td>B</td>\n",
              "      <td>A</td>\n",
              "      <td>A</td>\n",
              "      <td>B</td>\n",
              "      <td>E</td>\n",
              "      <td>C</td>\n",
              "      <td>F</td>\n",
              "      <td>0.486063</td>\n",
              "      <td>0.639349</td>\n",
              "      <td>0.496212</td>\n",
              "      <td>0.354186</td>\n",
              "      <td>0.279105</td>\n",
              "      <td>0.382600</td>\n",
              "      <td>0.705940</td>\n",
              "      <td>0.325193</td>\n",
              "      <td>0.440967</td>\n",
              "      <td>0.462146</td>\n",
              "      <td>0.724447</td>\n",
              "      <td>0.683073</td>\n",
              "      <td>0.343457</td>\n",
              "      <td>0.297743</td>\n",
              "      <td>6.868974</td>\n",
              "    </tr>\n",
              "  </tbody>\n",
              "</table>\n",
              "</div>"
            ],
            "text/plain": [
              "   cat0 cat1 cat2 cat3 cat5  ...    cont10    cont11    cont12    cont13    target\n",
              "id                           ...                                                  \n",
              "1     A    B    A    A    D  ...  0.724417  0.701915  0.877618  0.719903  6.994023\n",
              "2     B    A    A    A    B  ...  0.613252  0.741289  0.326679  0.808464  8.071256\n",
              "3     A    A    A    C    D  ...  0.264104  0.695561  0.869133  0.828352  5.760456\n",
              "4     A    A    A    C    D  ...  0.494269  0.698125  0.809799  0.614766  7.806457\n",
              "6     A    B    A    A    B  ...  0.724447  0.683073  0.343457  0.297743  6.868974\n",
              "\n",
              "[5 rows x 23 columns]"
            ]
          },
          "metadata": {
            "tags": []
          },
          "execution_count": 14
        }
      ]
    },
    {
      "cell_type": "code",
      "metadata": {
        "id": "x_MVJFVaWDvs"
      },
      "source": [
        "X_train = train.drop(['target'], axis=1)\r\n",
        "y_train = train.target\r\n",
        "X_test = test.copy()"
      ],
      "execution_count": null,
      "outputs": []
    },
    {
      "cell_type": "code",
      "metadata": {
        "id": "q0aX7RG9fwTk"
      },
      "source": [
        "#y_train.max(), len(y_train[y_train < 6.]), len(y_train[(y_train > 6) & (y_train < 9.5)])"
      ],
      "execution_count": null,
      "outputs": []
    },
    {
      "cell_type": "code",
      "metadata": {
        "id": "TMQEsF3ZWHCk"
      },
      "source": [
        "cat_cols = [feature for feature in train.columns if 'cat' in feature]\r\n",
        "cont_cols = [feature for feature in train.columns if 'con' in feature]\r\n",
        "\r\n",
        "for feature in cat_cols:\r\n",
        "    le = LabelEncoder()\r\n",
        "    le.fit(train[feature])\r\n",
        "    X_train[feature] = le.transform(X_train[feature])\r\n",
        "    X_test[feature] = le.transform(X_test[feature])"
      ],
      "execution_count": null,
      "outputs": []
    },
    {
      "cell_type": "markdown",
      "metadata": {
        "id": "Ov_JLufWb6RM"
      },
      "source": [
        "## Case #1\r\n",
        "### Start the standadisation process & round off to the nearest 3\r\n"
      ]
    },
    {
      "cell_type": "code",
      "metadata": {
        "id": "2hqQbOaacNq7"
      },
      "source": [
        " # Turn the data to a Numpy array\r\n",
        " X_train_array = X_train[X_train.columns.to_list()].to_numpy()\r\n",
        " X_test_array = X_test[X_train.columns.to_list()].to_numpy()\r\n",
        " y_train_array = y_train.to_numpy()"
      ],
      "execution_count": null,
      "outputs": []
    },
    {
      "cell_type": "code",
      "metadata": {
        "id": "s9R4dB4CdAy8"
      },
      "source": [
        "# Standardisation of the data:\r\n",
        "from sklearn.preprocessing import StandardScaler\r\n",
        "from sklearn.preprocessing import PowerTransformer\r\n",
        "sc = StandardScaler()\r\n",
        "#sc = PowerTransformer()\r\n",
        "X_train_array_std = sc.fit_transform(X_train_array, y_train_array)\r\n",
        "X_test_array_std = sc.transform(X_test_array)"
      ],
      "execution_count": null,
      "outputs": []
    },
    {
      "cell_type": "code",
      "metadata": {
        "id": "ETqUIMMPd1q3"
      },
      "source": [
        "#Round off the data to the nearest 3 decimals\r\n",
        "X_train_array_std=np.round(X_train_array_std, 3)\r\n",
        "X_test_array_std=np.round(X_test_array_std, 3)"
      ],
      "execution_count": null,
      "outputs": []
    },
    {
      "cell_type": "code",
      "metadata": {
        "id": "4gsc93T8erRo"
      },
      "source": [
        "# Return the data back to a pandas dataFrame format\r\n",
        "X_train = pd.DataFrame(X_train_array_std, columns=X_train.columns.to_list())\r\n",
        "X_test = pd.DataFrame(X_test_array_std, columns=X_train.columns.to_list())\r\n",
        "y_train = train.target"
      ],
      "execution_count": null,
      "outputs": []
    },
    {
      "cell_type": "code",
      "metadata": {
        "colab": {
          "base_uri": "https://localhost:8080/",
          "height": 204
        },
        "id": "NVbsp1bGZhs2",
        "outputId": "a153437b-d6b6-43a4-d0df-e96f45d407b6"
      },
      "source": [
        "X_train.head()"
      ],
      "execution_count": null,
      "outputs": [
        {
          "output_type": "execute_result",
          "data": {
            "text/html": [
              "<div>\n",
              "<style scoped>\n",
              "    .dataframe tbody tr th:only-of-type {\n",
              "        vertical-align: middle;\n",
              "    }\n",
              "\n",
              "    .dataframe tbody tr th {\n",
              "        vertical-align: top;\n",
              "    }\n",
              "\n",
              "    .dataframe thead th {\n",
              "        text-align: right;\n",
              "    }\n",
              "</style>\n",
              "<table border=\"1\" class=\"dataframe\">\n",
              "  <thead>\n",
              "    <tr style=\"text-align: right;\">\n",
              "      <th></th>\n",
              "      <th>cat0</th>\n",
              "      <th>cat1</th>\n",
              "      <th>cat2</th>\n",
              "      <th>cat3</th>\n",
              "      <th>cat5</th>\n",
              "      <th>cat7</th>\n",
              "      <th>cat8</th>\n",
              "      <th>cat9</th>\n",
              "      <th>cont0</th>\n",
              "      <th>cont1</th>\n",
              "      <th>cont2</th>\n",
              "      <th>cont3</th>\n",
              "      <th>cont4</th>\n",
              "      <th>cont5</th>\n",
              "      <th>cont6</th>\n",
              "      <th>cont7</th>\n",
              "      <th>cont8</th>\n",
              "      <th>cont9</th>\n",
              "      <th>cont10</th>\n",
              "      <th>cont11</th>\n",
              "      <th>cont12</th>\n",
              "      <th>cont13</th>\n",
              "    </tr>\n",
              "  </thead>\n",
              "  <tbody>\n",
              "    <tr>\n",
              "      <th>0</th>\n",
              "      <td>-0.257</td>\n",
              "      <td>1.088</td>\n",
              "      <td>-0.291</td>\n",
              "      <td>-1.279</td>\n",
              "      <td>1.077</td>\n",
              "      <td>0.348</td>\n",
              "      <td>-0.547</td>\n",
              "      <td>0.215</td>\n",
              "      <td>1.945</td>\n",
              "      <td>0.758</td>\n",
              "      <td>-1.598</td>\n",
              "      <td>-0.957</td>\n",
              "      <td>-0.867</td>\n",
              "      <td>1.610</td>\n",
              "      <td>-0.295</td>\n",
              "      <td>1.396</td>\n",
              "      <td>1.978</td>\n",
              "      <td>1.351</td>\n",
              "      <td>1.089</td>\n",
              "      <td>0.745</td>\n",
              "      <td>1.598</td>\n",
              "      <td>0.962</td>\n",
              "    </tr>\n",
              "    <tr>\n",
              "      <th>1</th>\n",
              "      <td>3.898</td>\n",
              "      <td>-0.919</td>\n",
              "      <td>-0.291</td>\n",
              "      <td>-1.279</td>\n",
              "      <td>-0.980</td>\n",
              "      <td>0.348</td>\n",
              "      <td>-1.677</td>\n",
              "      <td>-0.875</td>\n",
              "      <td>-0.425</td>\n",
              "      <td>-2.093</td>\n",
              "      <td>-0.433</td>\n",
              "      <td>1.676</td>\n",
              "      <td>-0.863</td>\n",
              "      <td>-0.295</td>\n",
              "      <td>-0.687</td>\n",
              "      <td>-0.868</td>\n",
              "      <td>0.608</td>\n",
              "      <td>0.094</td>\n",
              "      <td>0.537</td>\n",
              "      <td>0.915</td>\n",
              "      <td>-0.896</td>\n",
              "      <td>1.355</td>\n",
              "    </tr>\n",
              "    <tr>\n",
              "      <th>2</th>\n",
              "      <td>-0.257</td>\n",
              "      <td>-0.919</td>\n",
              "      <td>-0.291</td>\n",
              "      <td>0.572</td>\n",
              "      <td>1.077</td>\n",
              "      <td>-2.875</td>\n",
              "      <td>-0.547</td>\n",
              "      <td>2.030</td>\n",
              "      <td>1.013</td>\n",
              "      <td>1.077</td>\n",
              "      <td>0.053</td>\n",
              "      <td>1.537</td>\n",
              "      <td>-0.806</td>\n",
              "      <td>1.752</td>\n",
              "      <td>-0.565</td>\n",
              "      <td>1.842</td>\n",
              "      <td>1.841</td>\n",
              "      <td>1.462</td>\n",
              "      <td>-1.195</td>\n",
              "      <td>0.717</td>\n",
              "      <td>1.560</td>\n",
              "      <td>1.443</td>\n",
              "    </tr>\n",
              "    <tr>\n",
              "      <th>3</th>\n",
              "      <td>-0.257</td>\n",
              "      <td>-0.919</td>\n",
              "      <td>-0.291</td>\n",
              "      <td>0.572</td>\n",
              "      <td>1.077</td>\n",
              "      <td>0.348</td>\n",
              "      <td>1.712</td>\n",
              "      <td>0.941</td>\n",
              "      <td>0.881</td>\n",
              "      <td>1.126</td>\n",
              "      <td>-1.451</td>\n",
              "      <td>1.201</td>\n",
              "      <td>1.566</td>\n",
              "      <td>1.838</td>\n",
              "      <td>0.523</td>\n",
              "      <td>-0.238</td>\n",
              "      <td>1.853</td>\n",
              "      <td>1.311</td>\n",
              "      <td>-0.053</td>\n",
              "      <td>0.729</td>\n",
              "      <td>1.291</td>\n",
              "      <td>0.495</td>\n",
              "    </tr>\n",
              "    <tr>\n",
              "      <th>4</th>\n",
              "      <td>-0.257</td>\n",
              "      <td>1.088</td>\n",
              "      <td>-0.291</td>\n",
              "      <td>-1.279</td>\n",
              "      <td>-0.980</td>\n",
              "      <td>0.348</td>\n",
              "      <td>-0.547</td>\n",
              "      <td>-0.875</td>\n",
              "      <td>-0.188</td>\n",
              "      <td>0.564</td>\n",
              "      <td>0.260</td>\n",
              "      <td>-0.386</td>\n",
              "      <td>-0.879</td>\n",
              "      <td>-0.543</td>\n",
              "      <td>1.183</td>\n",
              "      <td>-0.639</td>\n",
              "      <td>-0.083</td>\n",
              "      <td>-0.317</td>\n",
              "      <td>1.089</td>\n",
              "      <td>0.663</td>\n",
              "      <td>-0.820</td>\n",
              "      <td>-0.913</td>\n",
              "    </tr>\n",
              "  </tbody>\n",
              "</table>\n",
              "</div>"
            ],
            "text/plain": [
              "    cat0   cat1   cat2   cat3   cat5  ...  cont9  cont10  cont11  cont12  cont13\n",
              "0 -0.257  1.088 -0.291 -1.279  1.077  ...  1.351   1.089   0.745   1.598   0.962\n",
              "1  3.898 -0.919 -0.291 -1.279 -0.980  ...  0.094   0.537   0.915  -0.896   1.355\n",
              "2 -0.257 -0.919 -0.291  0.572  1.077  ...  1.462  -1.195   0.717   1.560   1.443\n",
              "3 -0.257 -0.919 -0.291  0.572  1.077  ...  1.311  -0.053   0.729   1.291   0.495\n",
              "4 -0.257  1.088 -0.291 -1.279 -0.980  ... -0.317   1.089   0.663  -0.820  -0.913\n",
              "\n",
              "[5 rows x 22 columns]"
            ]
          },
          "metadata": {
            "tags": []
          },
          "execution_count": 22
        }
      ]
    },
    {
      "cell_type": "code",
      "metadata": {
        "colab": {
          "base_uri": "https://localhost:8080/",
          "height": 235
        },
        "id": "BiPmGnnClnlP",
        "outputId": "c1bc7f1f-f026-44ed-b464-77afdc777e4d"
      },
      "source": [
        "X_train.index = dataframe_train.index\r\n",
        "X_train.head()"
      ],
      "execution_count": null,
      "outputs": [
        {
          "output_type": "execute_result",
          "data": {
            "text/html": [
              "<div>\n",
              "<style scoped>\n",
              "    .dataframe tbody tr th:only-of-type {\n",
              "        vertical-align: middle;\n",
              "    }\n",
              "\n",
              "    .dataframe tbody tr th {\n",
              "        vertical-align: top;\n",
              "    }\n",
              "\n",
              "    .dataframe thead th {\n",
              "        text-align: right;\n",
              "    }\n",
              "</style>\n",
              "<table border=\"1\" class=\"dataframe\">\n",
              "  <thead>\n",
              "    <tr style=\"text-align: right;\">\n",
              "      <th></th>\n",
              "      <th>cat0</th>\n",
              "      <th>cat1</th>\n",
              "      <th>cat2</th>\n",
              "      <th>cat3</th>\n",
              "      <th>cat5</th>\n",
              "      <th>cat7</th>\n",
              "      <th>cat8</th>\n",
              "      <th>cat9</th>\n",
              "      <th>cont0</th>\n",
              "      <th>cont1</th>\n",
              "      <th>cont2</th>\n",
              "      <th>cont3</th>\n",
              "      <th>cont4</th>\n",
              "      <th>cont5</th>\n",
              "      <th>cont6</th>\n",
              "      <th>cont7</th>\n",
              "      <th>cont8</th>\n",
              "      <th>cont9</th>\n",
              "      <th>cont10</th>\n",
              "      <th>cont11</th>\n",
              "      <th>cont12</th>\n",
              "      <th>cont13</th>\n",
              "    </tr>\n",
              "    <tr>\n",
              "      <th>id</th>\n",
              "      <th></th>\n",
              "      <th></th>\n",
              "      <th></th>\n",
              "      <th></th>\n",
              "      <th></th>\n",
              "      <th></th>\n",
              "      <th></th>\n",
              "      <th></th>\n",
              "      <th></th>\n",
              "      <th></th>\n",
              "      <th></th>\n",
              "      <th></th>\n",
              "      <th></th>\n",
              "      <th></th>\n",
              "      <th></th>\n",
              "      <th></th>\n",
              "      <th></th>\n",
              "      <th></th>\n",
              "      <th></th>\n",
              "      <th></th>\n",
              "      <th></th>\n",
              "      <th></th>\n",
              "    </tr>\n",
              "  </thead>\n",
              "  <tbody>\n",
              "    <tr>\n",
              "      <th>1</th>\n",
              "      <td>-0.257</td>\n",
              "      <td>1.088</td>\n",
              "      <td>-0.291</td>\n",
              "      <td>-1.279</td>\n",
              "      <td>1.077</td>\n",
              "      <td>0.348</td>\n",
              "      <td>-0.547</td>\n",
              "      <td>0.215</td>\n",
              "      <td>1.945</td>\n",
              "      <td>0.758</td>\n",
              "      <td>-1.598</td>\n",
              "      <td>-0.957</td>\n",
              "      <td>-0.867</td>\n",
              "      <td>1.610</td>\n",
              "      <td>-0.295</td>\n",
              "      <td>1.396</td>\n",
              "      <td>1.978</td>\n",
              "      <td>1.351</td>\n",
              "      <td>1.089</td>\n",
              "      <td>0.745</td>\n",
              "      <td>1.598</td>\n",
              "      <td>0.962</td>\n",
              "    </tr>\n",
              "    <tr>\n",
              "      <th>2</th>\n",
              "      <td>3.898</td>\n",
              "      <td>-0.919</td>\n",
              "      <td>-0.291</td>\n",
              "      <td>-1.279</td>\n",
              "      <td>-0.980</td>\n",
              "      <td>0.348</td>\n",
              "      <td>-1.677</td>\n",
              "      <td>-0.875</td>\n",
              "      <td>-0.425</td>\n",
              "      <td>-2.093</td>\n",
              "      <td>-0.433</td>\n",
              "      <td>1.676</td>\n",
              "      <td>-0.863</td>\n",
              "      <td>-0.295</td>\n",
              "      <td>-0.687</td>\n",
              "      <td>-0.868</td>\n",
              "      <td>0.608</td>\n",
              "      <td>0.094</td>\n",
              "      <td>0.537</td>\n",
              "      <td>0.915</td>\n",
              "      <td>-0.896</td>\n",
              "      <td>1.355</td>\n",
              "    </tr>\n",
              "    <tr>\n",
              "      <th>3</th>\n",
              "      <td>-0.257</td>\n",
              "      <td>-0.919</td>\n",
              "      <td>-0.291</td>\n",
              "      <td>0.572</td>\n",
              "      <td>1.077</td>\n",
              "      <td>-2.875</td>\n",
              "      <td>-0.547</td>\n",
              "      <td>2.030</td>\n",
              "      <td>1.013</td>\n",
              "      <td>1.077</td>\n",
              "      <td>0.053</td>\n",
              "      <td>1.537</td>\n",
              "      <td>-0.806</td>\n",
              "      <td>1.752</td>\n",
              "      <td>-0.565</td>\n",
              "      <td>1.842</td>\n",
              "      <td>1.841</td>\n",
              "      <td>1.462</td>\n",
              "      <td>-1.195</td>\n",
              "      <td>0.717</td>\n",
              "      <td>1.560</td>\n",
              "      <td>1.443</td>\n",
              "    </tr>\n",
              "    <tr>\n",
              "      <th>4</th>\n",
              "      <td>-0.257</td>\n",
              "      <td>-0.919</td>\n",
              "      <td>-0.291</td>\n",
              "      <td>0.572</td>\n",
              "      <td>1.077</td>\n",
              "      <td>0.348</td>\n",
              "      <td>1.712</td>\n",
              "      <td>0.941</td>\n",
              "      <td>0.881</td>\n",
              "      <td>1.126</td>\n",
              "      <td>-1.451</td>\n",
              "      <td>1.201</td>\n",
              "      <td>1.566</td>\n",
              "      <td>1.838</td>\n",
              "      <td>0.523</td>\n",
              "      <td>-0.238</td>\n",
              "      <td>1.853</td>\n",
              "      <td>1.311</td>\n",
              "      <td>-0.053</td>\n",
              "      <td>0.729</td>\n",
              "      <td>1.291</td>\n",
              "      <td>0.495</td>\n",
              "    </tr>\n",
              "    <tr>\n",
              "      <th>6</th>\n",
              "      <td>-0.257</td>\n",
              "      <td>1.088</td>\n",
              "      <td>-0.291</td>\n",
              "      <td>-1.279</td>\n",
              "      <td>-0.980</td>\n",
              "      <td>0.348</td>\n",
              "      <td>-0.547</td>\n",
              "      <td>-0.875</td>\n",
              "      <td>-0.188</td>\n",
              "      <td>0.564</td>\n",
              "      <td>0.260</td>\n",
              "      <td>-0.386</td>\n",
              "      <td>-0.879</td>\n",
              "      <td>-0.543</td>\n",
              "      <td>1.183</td>\n",
              "      <td>-0.639</td>\n",
              "      <td>-0.083</td>\n",
              "      <td>-0.317</td>\n",
              "      <td>1.089</td>\n",
              "      <td>0.663</td>\n",
              "      <td>-0.820</td>\n",
              "      <td>-0.913</td>\n",
              "    </tr>\n",
              "  </tbody>\n",
              "</table>\n",
              "</div>"
            ],
            "text/plain": [
              "     cat0   cat1   cat2   cat3   cat5  ...  cont9  cont10  cont11  cont12  cont13\n",
              "id                                     ...                                       \n",
              "1  -0.257  1.088 -0.291 -1.279  1.077  ...  1.351   1.089   0.745   1.598   0.962\n",
              "2   3.898 -0.919 -0.291 -1.279 -0.980  ...  0.094   0.537   0.915  -0.896   1.355\n",
              "3  -0.257 -0.919 -0.291  0.572  1.077  ...  1.462  -1.195   0.717   1.560   1.443\n",
              "4  -0.257 -0.919 -0.291  0.572  1.077  ...  1.311  -0.053   0.729   1.291   0.495\n",
              "6  -0.257  1.088 -0.291 -1.279 -0.980  ... -0.317   1.089   0.663  -0.820  -0.913\n",
              "\n",
              "[5 rows x 22 columns]"
            ]
          },
          "metadata": {
            "tags": []
          },
          "execution_count": 23
        }
      ]
    },
    {
      "cell_type": "code",
      "metadata": {
        "colab": {
          "base_uri": "https://localhost:8080/",
          "height": 204
        },
        "id": "llz3RjMNqAoU",
        "outputId": "e4d9acd3-10fa-4bce-aa83-37f5fd1fcbaf"
      },
      "source": [
        "X_test.head()"
      ],
      "execution_count": null,
      "outputs": [
        {
          "output_type": "execute_result",
          "data": {
            "text/html": [
              "<div>\n",
              "<style scoped>\n",
              "    .dataframe tbody tr th:only-of-type {\n",
              "        vertical-align: middle;\n",
              "    }\n",
              "\n",
              "    .dataframe tbody tr th {\n",
              "        vertical-align: top;\n",
              "    }\n",
              "\n",
              "    .dataframe thead th {\n",
              "        text-align: right;\n",
              "    }\n",
              "</style>\n",
              "<table border=\"1\" class=\"dataframe\">\n",
              "  <thead>\n",
              "    <tr style=\"text-align: right;\">\n",
              "      <th></th>\n",
              "      <th>cat0</th>\n",
              "      <th>cat1</th>\n",
              "      <th>cat2</th>\n",
              "      <th>cat3</th>\n",
              "      <th>cat5</th>\n",
              "      <th>cat7</th>\n",
              "      <th>cat8</th>\n",
              "      <th>cat9</th>\n",
              "      <th>cont0</th>\n",
              "      <th>cont1</th>\n",
              "      <th>cont2</th>\n",
              "      <th>cont3</th>\n",
              "      <th>cont4</th>\n",
              "      <th>cont5</th>\n",
              "      <th>cont6</th>\n",
              "      <th>cont7</th>\n",
              "      <th>cont8</th>\n",
              "      <th>cont9</th>\n",
              "      <th>cont10</th>\n",
              "      <th>cont11</th>\n",
              "      <th>cont12</th>\n",
              "      <th>cont13</th>\n",
              "    </tr>\n",
              "  </thead>\n",
              "  <tbody>\n",
              "    <tr>\n",
              "      <th>0</th>\n",
              "      <td>-0.257</td>\n",
              "      <td>1.088</td>\n",
              "      <td>-0.291</td>\n",
              "      <td>0.572</td>\n",
              "      <td>1.077</td>\n",
              "      <td>0.348</td>\n",
              "      <td>0.582</td>\n",
              "      <td>-0.511</td>\n",
              "      <td>-0.944</td>\n",
              "      <td>0.189</td>\n",
              "      <td>0.211</td>\n",
              "      <td>-1.216</td>\n",
              "      <td>1.227</td>\n",
              "      <td>0.376</td>\n",
              "      <td>-0.995</td>\n",
              "      <td>-0.861</td>\n",
              "      <td>-1.165</td>\n",
              "      <td>-1.393</td>\n",
              "      <td>-1.091</td>\n",
              "      <td>-1.151</td>\n",
              "      <td>0.584</td>\n",
              "      <td>-0.892</td>\n",
              "    </tr>\n",
              "    <tr>\n",
              "      <th>1</th>\n",
              "      <td>-0.257</td>\n",
              "      <td>1.088</td>\n",
              "      <td>-0.291</td>\n",
              "      <td>0.572</td>\n",
              "      <td>1.077</td>\n",
              "      <td>0.348</td>\n",
              "      <td>-0.547</td>\n",
              "      <td>1.304</td>\n",
              "      <td>-0.597</td>\n",
              "      <td>0.471</td>\n",
              "      <td>-0.736</td>\n",
              "      <td>-1.084</td>\n",
              "      <td>-0.887</td>\n",
              "      <td>-0.124</td>\n",
              "      <td>-0.420</td>\n",
              "      <td>0.102</td>\n",
              "      <td>1.803</td>\n",
              "      <td>-0.051</td>\n",
              "      <td>0.283</td>\n",
              "      <td>0.869</td>\n",
              "      <td>-0.933</td>\n",
              "      <td>1.034</td>\n",
              "    </tr>\n",
              "    <tr>\n",
              "      <th>2</th>\n",
              "      <td>-0.257</td>\n",
              "      <td>1.088</td>\n",
              "      <td>-0.291</td>\n",
              "      <td>0.572</td>\n",
              "      <td>1.077</td>\n",
              "      <td>0.348</td>\n",
              "      <td>-0.547</td>\n",
              "      <td>-0.875</td>\n",
              "      <td>0.029</td>\n",
              "      <td>0.474</td>\n",
              "      <td>1.583</td>\n",
              "      <td>-1.032</td>\n",
              "      <td>-0.877</td>\n",
              "      <td>0.726</td>\n",
              "      <td>1.127</td>\n",
              "      <td>-0.991</td>\n",
              "      <td>0.578</td>\n",
              "      <td>0.106</td>\n",
              "      <td>1.644</td>\n",
              "      <td>0.996</td>\n",
              "      <td>-0.865</td>\n",
              "      <td>-1.019</td>\n",
              "    </tr>\n",
              "    <tr>\n",
              "      <th>3</th>\n",
              "      <td>-0.257</td>\n",
              "      <td>-0.919</td>\n",
              "      <td>3.434</td>\n",
              "      <td>-1.279</td>\n",
              "      <td>1.077</td>\n",
              "      <td>0.348</td>\n",
              "      <td>0.582</td>\n",
              "      <td>-0.875</td>\n",
              "      <td>-0.415</td>\n",
              "      <td>-0.082</td>\n",
              "      <td>1.358</td>\n",
              "      <td>-1.062</td>\n",
              "      <td>0.120</td>\n",
              "      <td>1.086</td>\n",
              "      <td>-1.238</td>\n",
              "      <td>-0.772</td>\n",
              "      <td>-0.076</td>\n",
              "      <td>0.342</td>\n",
              "      <td>-0.451</td>\n",
              "      <td>-1.189</td>\n",
              "      <td>0.292</td>\n",
              "      <td>-0.851</td>\n",
              "    </tr>\n",
              "    <tr>\n",
              "      <th>4</th>\n",
              "      <td>-0.257</td>\n",
              "      <td>1.088</td>\n",
              "      <td>-0.291</td>\n",
              "      <td>-1.279</td>\n",
              "      <td>-0.980</td>\n",
              "      <td>0.348</td>\n",
              "      <td>0.582</td>\n",
              "      <td>0.215</td>\n",
              "      <td>-0.658</td>\n",
              "      <td>1.046</td>\n",
              "      <td>-0.644</td>\n",
              "      <td>-1.066</td>\n",
              "      <td>1.507</td>\n",
              "      <td>-1.287</td>\n",
              "      <td>-0.772</td>\n",
              "      <td>0.786</td>\n",
              "      <td>-1.309</td>\n",
              "      <td>-1.292</td>\n",
              "      <td>1.022</td>\n",
              "      <td>-1.325</td>\n",
              "      <td>-1.081</td>\n",
              "      <td>1.295</td>\n",
              "    </tr>\n",
              "  </tbody>\n",
              "</table>\n",
              "</div>"
            ],
            "text/plain": [
              "    cat0   cat1   cat2   cat3   cat5  ...  cont9  cont10  cont11  cont12  cont13\n",
              "0 -0.257  1.088 -0.291  0.572  1.077  ... -1.393  -1.091  -1.151   0.584  -0.892\n",
              "1 -0.257  1.088 -0.291  0.572  1.077  ... -0.051   0.283   0.869  -0.933   1.034\n",
              "2 -0.257  1.088 -0.291  0.572  1.077  ...  0.106   1.644   0.996  -0.865  -1.019\n",
              "3 -0.257 -0.919  3.434 -1.279  1.077  ...  0.342  -0.451  -1.189   0.292  -0.851\n",
              "4 -0.257  1.088 -0.291 -1.279 -0.980  ... -1.292   1.022  -1.325  -1.081   1.295\n",
              "\n",
              "[5 rows x 22 columns]"
            ]
          },
          "metadata": {
            "tags": []
          },
          "execution_count": 24
        }
      ]
    },
    {
      "cell_type": "code",
      "metadata": {
        "colab": {
          "base_uri": "https://localhost:8080/"
        },
        "id": "SfXLvYq8Eq-h",
        "outputId": "21085a96-7a00-458f-e2c5-22ab28d93782"
      },
      "source": [
        "y_train.shape, X_train.shape, X_test.shape"
      ],
      "execution_count": null,
      "outputs": [
        {
          "output_type": "execute_result",
          "data": {
            "text/plain": [
              "((300000,), (300000, 22), (200000, 22))"
            ]
          },
          "metadata": {
            "tags": []
          },
          "execution_count": 25
        }
      ]
    },
    {
      "cell_type": "markdown",
      "metadata": {
        "id": "RVPrp1zKfbvO"
      },
      "source": [
        "## Case #2\r\n",
        "From the above data, cut of the target tails"
      ]
    },
    {
      "cell_type": "code",
      "metadata": {
        "colab": {
          "base_uri": "https://localhost:8080/"
        },
        "id": "5D0IHdMwiQiI",
        "outputId": "4d222152-5693-4189-a806-3a121aca23dc"
      },
      "source": [
        "temp = X_train.copy()\r\n",
        "temp['target'] =dataframe_train.target\r\n",
        "temp.head(), temp.shape, temp.tail()"
      ],
      "execution_count": null,
      "outputs": [
        {
          "output_type": "execute_result",
          "data": {
            "text/plain": [
              "(     cat0   cat1   cat2   cat3   cat5  ...  cont10  cont11  cont12  cont13    target\n",
              " id                                     ...                                          \n",
              " 1  -0.257  1.088 -0.291 -1.279  1.077  ...   1.089   0.745   1.598   0.962  6.994023\n",
              " 2   3.898 -0.919 -0.291 -1.279 -0.980  ...   0.537   0.915  -0.896   1.355  8.071256\n",
              " 3  -0.257 -0.919 -0.291  0.572  1.077  ...  -1.195   0.717   1.560   1.443  5.760456\n",
              " 4  -0.257 -0.919 -0.291  0.572  1.077  ...  -0.053   0.729   1.291   0.495  7.806457\n",
              " 6  -0.257  1.088 -0.291 -1.279 -0.980  ...   1.089   0.663  -0.820  -0.913  6.868974\n",
              " \n",
              " [5 rows x 23 columns],\n",
              " (300000, 23),\n",
              "          cat0   cat1   cat2   cat3  ...  cont11  cont12  cont13    target\n",
              " id                                  ...                                  \n",
              " 499993 -0.257  1.088 -0.291  0.572  ...  -0.634  -1.400   1.289  8.343538\n",
              " 499996 -0.257  1.088 -0.291  0.572  ...  -0.888  -0.985  -1.210  7.851861\n",
              " 499997 -0.257  1.088 -0.291  0.572  ...  -0.924  -1.242  -0.685  7.600558\n",
              " 499998 -0.257  1.088  3.434  0.572  ...  -1.233  -0.999  -0.099  8.272095\n",
              " 499999 -0.257 -0.919  3.434 -1.279  ...   0.340   0.853  -0.226  6.025685\n",
              " \n",
              " [5 rows x 23 columns])"
            ]
          },
          "metadata": {
            "tags": []
          },
          "execution_count": 26
        }
      ]
    },
    {
      "cell_type": "code",
      "metadata": {
        "id": "VtGgsxZffwIc"
      },
      "source": [
        "#From the distribution graph, I would like to get rid of rows which has target < 5 and > 10 to minimize outlier.\r\n",
        "# Temp\r\n",
        "#temp = X_train.copy()\r\n",
        "#temp['target'] =train.target\r\n",
        "#temp_train = temp[(temp.target > 5) & (temp.target < 9.5)]\r\n",
        "####=======================\r\n",
        "#temp_train.shape"
      ],
      "execution_count": null,
      "outputs": []
    },
    {
      "cell_type": "markdown",
      "metadata": {
        "id": "uT61fPLTBj2p"
      },
      "source": [
        "##Data augmentation Pandas\r\n",
        "Increase samples\r\n",
        "add 0.1"
      ]
    },
    {
      "cell_type": "code",
      "metadata": {
        "id": "QAFdzrhU7ZSE"
      },
      "source": [
        "#y_train.head()\r\n",
        "#y_train = np.round(y_train, 3)"
      ],
      "execution_count": null,
      "outputs": []
    },
    {
      "cell_type": "code",
      "metadata": {
        "colab": {
          "base_uri": "https://localhost:8080/",
          "height": 235
        },
        "id": "dE5eTOLqB1aB",
        "outputId": "304fd8d1-16ff-4678-d828-6a36c898a997"
      },
      "source": [
        "temp_train_samp = temp.sample(frac=0.25)\r\n",
        "temp_train_samp[temp.columns[:-1]] +=0.01\r\n",
        "temp_train_samp.head()"
      ],
      "execution_count": null,
      "outputs": [
        {
          "output_type": "execute_result",
          "data": {
            "text/html": [
              "<div>\n",
              "<style scoped>\n",
              "    .dataframe tbody tr th:only-of-type {\n",
              "        vertical-align: middle;\n",
              "    }\n",
              "\n",
              "    .dataframe tbody tr th {\n",
              "        vertical-align: top;\n",
              "    }\n",
              "\n",
              "    .dataframe thead th {\n",
              "        text-align: right;\n",
              "    }\n",
              "</style>\n",
              "<table border=\"1\" class=\"dataframe\">\n",
              "  <thead>\n",
              "    <tr style=\"text-align: right;\">\n",
              "      <th></th>\n",
              "      <th>cat0</th>\n",
              "      <th>cat1</th>\n",
              "      <th>cat2</th>\n",
              "      <th>cat3</th>\n",
              "      <th>cat5</th>\n",
              "      <th>cat7</th>\n",
              "      <th>cat8</th>\n",
              "      <th>cat9</th>\n",
              "      <th>cont0</th>\n",
              "      <th>cont1</th>\n",
              "      <th>cont2</th>\n",
              "      <th>cont3</th>\n",
              "      <th>cont4</th>\n",
              "      <th>cont5</th>\n",
              "      <th>cont6</th>\n",
              "      <th>cont7</th>\n",
              "      <th>cont8</th>\n",
              "      <th>cont9</th>\n",
              "      <th>cont10</th>\n",
              "      <th>cont11</th>\n",
              "      <th>cont12</th>\n",
              "      <th>cont13</th>\n",
              "      <th>target</th>\n",
              "    </tr>\n",
              "    <tr>\n",
              "      <th>id</th>\n",
              "      <th></th>\n",
              "      <th></th>\n",
              "      <th></th>\n",
              "      <th></th>\n",
              "      <th></th>\n",
              "      <th></th>\n",
              "      <th></th>\n",
              "      <th></th>\n",
              "      <th></th>\n",
              "      <th></th>\n",
              "      <th></th>\n",
              "      <th></th>\n",
              "      <th></th>\n",
              "      <th></th>\n",
              "      <th></th>\n",
              "      <th></th>\n",
              "      <th></th>\n",
              "      <th></th>\n",
              "      <th></th>\n",
              "      <th></th>\n",
              "      <th></th>\n",
              "      <th></th>\n",
              "      <th></th>\n",
              "    </tr>\n",
              "  </thead>\n",
              "  <tbody>\n",
              "    <tr>\n",
              "      <th>36207</th>\n",
              "      <td>-0.247</td>\n",
              "      <td>1.098</td>\n",
              "      <td>-0.281</td>\n",
              "      <td>0.582</td>\n",
              "      <td>1.087</td>\n",
              "      <td>-2.865</td>\n",
              "      <td>1.722</td>\n",
              "      <td>0.588</td>\n",
              "      <td>2.098</td>\n",
              "      <td>-1.943</td>\n",
              "      <td>-0.370</td>\n",
              "      <td>1.575</td>\n",
              "      <td>-0.872</td>\n",
              "      <td>1.121</td>\n",
              "      <td>0.476</td>\n",
              "      <td>1.326</td>\n",
              "      <td>1.850</td>\n",
              "      <td>1.219</td>\n",
              "      <td>0.424</td>\n",
              "      <td>0.213</td>\n",
              "      <td>-0.073</td>\n",
              "      <td>-1.007</td>\n",
              "      <td>6.849302</td>\n",
              "    </tr>\n",
              "    <tr>\n",
              "      <th>132212</th>\n",
              "      <td>-0.247</td>\n",
              "      <td>-0.909</td>\n",
              "      <td>-0.281</td>\n",
              "      <td>0.582</td>\n",
              "      <td>-0.970</td>\n",
              "      <td>0.358</td>\n",
              "      <td>-0.537</td>\n",
              "      <td>-0.865</td>\n",
              "      <td>-0.150</td>\n",
              "      <td>1.128</td>\n",
              "      <td>0.581</td>\n",
              "      <td>-0.971</td>\n",
              "      <td>-0.872</td>\n",
              "      <td>-0.707</td>\n",
              "      <td>-0.217</td>\n",
              "      <td>-0.922</td>\n",
              "      <td>-0.592</td>\n",
              "      <td>-0.910</td>\n",
              "      <td>0.485</td>\n",
              "      <td>-1.459</td>\n",
              "      <td>-0.802</td>\n",
              "      <td>1.386</td>\n",
              "      <td>8.478357</td>\n",
              "    </tr>\n",
              "    <tr>\n",
              "      <th>101029</th>\n",
              "      <td>-0.247</td>\n",
              "      <td>1.098</td>\n",
              "      <td>-0.281</td>\n",
              "      <td>-1.269</td>\n",
              "      <td>1.087</td>\n",
              "      <td>0.358</td>\n",
              "      <td>0.592</td>\n",
              "      <td>0.951</td>\n",
              "      <td>-2.749</td>\n",
              "      <td>0.603</td>\n",
              "      <td>0.269</td>\n",
              "      <td>-0.034</td>\n",
              "      <td>-0.567</td>\n",
              "      <td>-0.557</td>\n",
              "      <td>-0.627</td>\n",
              "      <td>-0.661</td>\n",
              "      <td>-0.726</td>\n",
              "      <td>-0.615</td>\n",
              "      <td>-1.169</td>\n",
              "      <td>-1.393</td>\n",
              "      <td>0.319</td>\n",
              "      <td>-0.192</td>\n",
              "      <td>7.026908</td>\n",
              "    </tr>\n",
              "    <tr>\n",
              "      <th>305531</th>\n",
              "      <td>-0.247</td>\n",
              "      <td>-0.909</td>\n",
              "      <td>-0.281</td>\n",
              "      <td>0.582</td>\n",
              "      <td>1.087</td>\n",
              "      <td>-2.865</td>\n",
              "      <td>-1.667</td>\n",
              "      <td>0.225</td>\n",
              "      <td>1.881</td>\n",
              "      <td>0.474</td>\n",
              "      <td>-1.389</td>\n",
              "      <td>-0.853</td>\n",
              "      <td>-0.867</td>\n",
              "      <td>1.719</td>\n",
              "      <td>0.412</td>\n",
              "      <td>1.397</td>\n",
              "      <td>2.102</td>\n",
              "      <td>1.451</td>\n",
              "      <td>1.609</td>\n",
              "      <td>1.401</td>\n",
              "      <td>1.600</td>\n",
              "      <td>-0.753</td>\n",
              "      <td>7.455387</td>\n",
              "    </tr>\n",
              "    <tr>\n",
              "      <th>76761</th>\n",
              "      <td>-0.247</td>\n",
              "      <td>-0.909</td>\n",
              "      <td>-0.281</td>\n",
              "      <td>-1.269</td>\n",
              "      <td>-0.970</td>\n",
              "      <td>0.358</td>\n",
              "      <td>-1.667</td>\n",
              "      <td>-0.865</td>\n",
              "      <td>-0.331</td>\n",
              "      <td>0.700</td>\n",
              "      <td>2.492</td>\n",
              "      <td>0.311</td>\n",
              "      <td>-0.856</td>\n",
              "      <td>-0.521</td>\n",
              "      <td>-0.513</td>\n",
              "      <td>-0.786</td>\n",
              "      <td>-0.654</td>\n",
              "      <td>-0.914</td>\n",
              "      <td>-0.192</td>\n",
              "      <td>1.230</td>\n",
              "      <td>-0.784</td>\n",
              "      <td>1.359</td>\n",
              "      <td>8.074857</td>\n",
              "    </tr>\n",
              "  </tbody>\n",
              "</table>\n",
              "</div>"
            ],
            "text/plain": [
              "         cat0   cat1   cat2   cat3  ...  cont11  cont12  cont13    target\n",
              "id                                  ...                                  \n",
              "36207  -0.247  1.098 -0.281  0.582  ...   0.213  -0.073  -1.007  6.849302\n",
              "132212 -0.247 -0.909 -0.281  0.582  ...  -1.459  -0.802   1.386  8.478357\n",
              "101029 -0.247  1.098 -0.281 -1.269  ...  -1.393   0.319  -0.192  7.026908\n",
              "305531 -0.247 -0.909 -0.281  0.582  ...   1.401   1.600  -0.753  7.455387\n",
              "76761  -0.247 -0.909 -0.281 -1.269  ...   1.230  -0.784   1.359  8.074857\n",
              "\n",
              "[5 rows x 23 columns]"
            ]
          },
          "metadata": {
            "tags": []
          },
          "execution_count": 29
        }
      ]
    },
    {
      "cell_type": "code",
      "metadata": {
        "id": "B0s-75RlIbEn"
      },
      "source": [
        "temp_train_samp.index +=500000"
      ],
      "execution_count": null,
      "outputs": []
    },
    {
      "cell_type": "code",
      "metadata": {
        "colab": {
          "base_uri": "https://localhost:8080/",
          "height": 235
        },
        "id": "7vzXDykUI4iB",
        "outputId": "da89558c-4c9f-4450-bcb2-44a2b8c0c1a3"
      },
      "source": [
        "temp_train_samp.head()"
      ],
      "execution_count": null,
      "outputs": [
        {
          "output_type": "execute_result",
          "data": {
            "text/html": [
              "<div>\n",
              "<style scoped>\n",
              "    .dataframe tbody tr th:only-of-type {\n",
              "        vertical-align: middle;\n",
              "    }\n",
              "\n",
              "    .dataframe tbody tr th {\n",
              "        vertical-align: top;\n",
              "    }\n",
              "\n",
              "    .dataframe thead th {\n",
              "        text-align: right;\n",
              "    }\n",
              "</style>\n",
              "<table border=\"1\" class=\"dataframe\">\n",
              "  <thead>\n",
              "    <tr style=\"text-align: right;\">\n",
              "      <th></th>\n",
              "      <th>cat0</th>\n",
              "      <th>cat1</th>\n",
              "      <th>cat2</th>\n",
              "      <th>cat3</th>\n",
              "      <th>cat5</th>\n",
              "      <th>cat7</th>\n",
              "      <th>cat8</th>\n",
              "      <th>cat9</th>\n",
              "      <th>cont0</th>\n",
              "      <th>cont1</th>\n",
              "      <th>cont2</th>\n",
              "      <th>cont3</th>\n",
              "      <th>cont4</th>\n",
              "      <th>cont5</th>\n",
              "      <th>cont6</th>\n",
              "      <th>cont7</th>\n",
              "      <th>cont8</th>\n",
              "      <th>cont9</th>\n",
              "      <th>cont10</th>\n",
              "      <th>cont11</th>\n",
              "      <th>cont12</th>\n",
              "      <th>cont13</th>\n",
              "      <th>target</th>\n",
              "    </tr>\n",
              "    <tr>\n",
              "      <th>id</th>\n",
              "      <th></th>\n",
              "      <th></th>\n",
              "      <th></th>\n",
              "      <th></th>\n",
              "      <th></th>\n",
              "      <th></th>\n",
              "      <th></th>\n",
              "      <th></th>\n",
              "      <th></th>\n",
              "      <th></th>\n",
              "      <th></th>\n",
              "      <th></th>\n",
              "      <th></th>\n",
              "      <th></th>\n",
              "      <th></th>\n",
              "      <th></th>\n",
              "      <th></th>\n",
              "      <th></th>\n",
              "      <th></th>\n",
              "      <th></th>\n",
              "      <th></th>\n",
              "      <th></th>\n",
              "      <th></th>\n",
              "    </tr>\n",
              "  </thead>\n",
              "  <tbody>\n",
              "    <tr>\n",
              "      <th>536207</th>\n",
              "      <td>-0.247</td>\n",
              "      <td>1.098</td>\n",
              "      <td>-0.281</td>\n",
              "      <td>0.582</td>\n",
              "      <td>1.087</td>\n",
              "      <td>-2.865</td>\n",
              "      <td>1.722</td>\n",
              "      <td>0.588</td>\n",
              "      <td>2.098</td>\n",
              "      <td>-1.943</td>\n",
              "      <td>-0.370</td>\n",
              "      <td>1.575</td>\n",
              "      <td>-0.872</td>\n",
              "      <td>1.121</td>\n",
              "      <td>0.476</td>\n",
              "      <td>1.326</td>\n",
              "      <td>1.850</td>\n",
              "      <td>1.219</td>\n",
              "      <td>0.424</td>\n",
              "      <td>0.213</td>\n",
              "      <td>-0.073</td>\n",
              "      <td>-1.007</td>\n",
              "      <td>6.849302</td>\n",
              "    </tr>\n",
              "    <tr>\n",
              "      <th>632212</th>\n",
              "      <td>-0.247</td>\n",
              "      <td>-0.909</td>\n",
              "      <td>-0.281</td>\n",
              "      <td>0.582</td>\n",
              "      <td>-0.970</td>\n",
              "      <td>0.358</td>\n",
              "      <td>-0.537</td>\n",
              "      <td>-0.865</td>\n",
              "      <td>-0.150</td>\n",
              "      <td>1.128</td>\n",
              "      <td>0.581</td>\n",
              "      <td>-0.971</td>\n",
              "      <td>-0.872</td>\n",
              "      <td>-0.707</td>\n",
              "      <td>-0.217</td>\n",
              "      <td>-0.922</td>\n",
              "      <td>-0.592</td>\n",
              "      <td>-0.910</td>\n",
              "      <td>0.485</td>\n",
              "      <td>-1.459</td>\n",
              "      <td>-0.802</td>\n",
              "      <td>1.386</td>\n",
              "      <td>8.478357</td>\n",
              "    </tr>\n",
              "    <tr>\n",
              "      <th>601029</th>\n",
              "      <td>-0.247</td>\n",
              "      <td>1.098</td>\n",
              "      <td>-0.281</td>\n",
              "      <td>-1.269</td>\n",
              "      <td>1.087</td>\n",
              "      <td>0.358</td>\n",
              "      <td>0.592</td>\n",
              "      <td>0.951</td>\n",
              "      <td>-2.749</td>\n",
              "      <td>0.603</td>\n",
              "      <td>0.269</td>\n",
              "      <td>-0.034</td>\n",
              "      <td>-0.567</td>\n",
              "      <td>-0.557</td>\n",
              "      <td>-0.627</td>\n",
              "      <td>-0.661</td>\n",
              "      <td>-0.726</td>\n",
              "      <td>-0.615</td>\n",
              "      <td>-1.169</td>\n",
              "      <td>-1.393</td>\n",
              "      <td>0.319</td>\n",
              "      <td>-0.192</td>\n",
              "      <td>7.026908</td>\n",
              "    </tr>\n",
              "    <tr>\n",
              "      <th>805531</th>\n",
              "      <td>-0.247</td>\n",
              "      <td>-0.909</td>\n",
              "      <td>-0.281</td>\n",
              "      <td>0.582</td>\n",
              "      <td>1.087</td>\n",
              "      <td>-2.865</td>\n",
              "      <td>-1.667</td>\n",
              "      <td>0.225</td>\n",
              "      <td>1.881</td>\n",
              "      <td>0.474</td>\n",
              "      <td>-1.389</td>\n",
              "      <td>-0.853</td>\n",
              "      <td>-0.867</td>\n",
              "      <td>1.719</td>\n",
              "      <td>0.412</td>\n",
              "      <td>1.397</td>\n",
              "      <td>2.102</td>\n",
              "      <td>1.451</td>\n",
              "      <td>1.609</td>\n",
              "      <td>1.401</td>\n",
              "      <td>1.600</td>\n",
              "      <td>-0.753</td>\n",
              "      <td>7.455387</td>\n",
              "    </tr>\n",
              "    <tr>\n",
              "      <th>576761</th>\n",
              "      <td>-0.247</td>\n",
              "      <td>-0.909</td>\n",
              "      <td>-0.281</td>\n",
              "      <td>-1.269</td>\n",
              "      <td>-0.970</td>\n",
              "      <td>0.358</td>\n",
              "      <td>-1.667</td>\n",
              "      <td>-0.865</td>\n",
              "      <td>-0.331</td>\n",
              "      <td>0.700</td>\n",
              "      <td>2.492</td>\n",
              "      <td>0.311</td>\n",
              "      <td>-0.856</td>\n",
              "      <td>-0.521</td>\n",
              "      <td>-0.513</td>\n",
              "      <td>-0.786</td>\n",
              "      <td>-0.654</td>\n",
              "      <td>-0.914</td>\n",
              "      <td>-0.192</td>\n",
              "      <td>1.230</td>\n",
              "      <td>-0.784</td>\n",
              "      <td>1.359</td>\n",
              "      <td>8.074857</td>\n",
              "    </tr>\n",
              "  </tbody>\n",
              "</table>\n",
              "</div>"
            ],
            "text/plain": [
              "         cat0   cat1   cat2   cat3  ...  cont11  cont12  cont13    target\n",
              "id                                  ...                                  \n",
              "536207 -0.247  1.098 -0.281  0.582  ...   0.213  -0.073  -1.007  6.849302\n",
              "632212 -0.247 -0.909 -0.281  0.582  ...  -1.459  -0.802   1.386  8.478357\n",
              "601029 -0.247  1.098 -0.281 -1.269  ...  -1.393   0.319  -0.192  7.026908\n",
              "805531 -0.247 -0.909 -0.281  0.582  ...   1.401   1.600  -0.753  7.455387\n",
              "576761 -0.247 -0.909 -0.281 -1.269  ...   1.230  -0.784   1.359  8.074857\n",
              "\n",
              "[5 rows x 23 columns]"
            ]
          },
          "metadata": {
            "tags": []
          },
          "execution_count": 31
        }
      ]
    },
    {
      "cell_type": "code",
      "metadata": {
        "colab": {
          "base_uri": "https://localhost:8080/"
        },
        "id": "qcEJgmKBJA66",
        "outputId": "91c3d9b6-3b90-491e-b915-6fc208c10327"
      },
      "source": [
        "temp_train_samp.shape"
      ],
      "execution_count": null,
      "outputs": [
        {
          "output_type": "execute_result",
          "data": {
            "text/plain": [
              "(75000, 23)"
            ]
          },
          "metadata": {
            "tags": []
          },
          "execution_count": 32
        }
      ]
    },
    {
      "cell_type": "code",
      "metadata": {
        "colab": {
          "base_uri": "https://localhost:8080/"
        },
        "id": "cM0Znov0Jgo8",
        "outputId": "60ede055-a253-4723-b4e7-a1c81314c664"
      },
      "source": [
        "temp_train_comb = pd.concat([temp, temp_train_samp])#, ignore_index=True)\r\n",
        "temp_train_comb.shape"
      ],
      "execution_count": null,
      "outputs": [
        {
          "output_type": "execute_result",
          "data": {
            "text/plain": [
              "(375000, 23)"
            ]
          },
          "metadata": {
            "tags": []
          },
          "execution_count": 33
        }
      ]
    },
    {
      "cell_type": "code",
      "metadata": {
        "colab": {
          "base_uri": "https://localhost:8080/",
          "height": 386
        },
        "id": "so3hD59EKcWh",
        "outputId": "1b99fcac-9a7f-43d2-9635-3083cda144e0"
      },
      "source": [
        "sns.displot(data=temp_train_comb, x=\"target\", kde=True)"
      ],
      "execution_count": null,
      "outputs": [
        {
          "output_type": "execute_result",
          "data": {
            "text/plain": [
              "<seaborn.axisgrid.FacetGrid at 0x7f3f35533c90>"
            ]
          },
          "metadata": {
            "tags": []
          },
          "execution_count": 34
        },
        {
          "output_type": "display_data",
          "data": {
            "image/png": "[encoded data removed]",
            "text/plain": [
              "<Figure size 360x360 with 1 Axes>"
            ]
          },
          "metadata": {
            "tags": [],
            "needs_background": "light"
          }
        }
      ]
    },
    {
      "cell_type": "code",
      "metadata": {
        "id": "FaxpRLC2HwT2"
      },
      "source": [
        "X_train = temp_train_comb.drop(['target'], axis=1)\r\n",
        "X_test = X_test\r\n",
        "y_train = temp_train_comb.target"
      ],
      "execution_count": null,
      "outputs": []
    },
    {
      "cell_type": "code",
      "metadata": {
        "colab": {
          "base_uri": "https://localhost:8080/"
        },
        "id": "4xrq36DG8Quo",
        "outputId": "ea2b56c6-69fc-416f-b4c8-147b783ce318"
      },
      "source": [
        "y_train.head()"
      ],
      "execution_count": null,
      "outputs": [
        {
          "output_type": "execute_result",
          "data": {
            "text/plain": [
              "id\n",
              "1    6.994023\n",
              "2    8.071256\n",
              "3    5.760456\n",
              "4    7.806457\n",
              "6    6.868974\n",
              "Name: target, dtype: float64"
            ]
          },
          "metadata": {
            "tags": []
          },
          "execution_count": 36
        }
      ]
    },
    {
      "cell_type": "code",
      "metadata": {
        "colab": {
          "base_uri": "https://localhost:8080/"
        },
        "id": "pQy5z8Y6-2tk",
        "outputId": "da7df46a-f8cb-4bf8-e6df-225f37b4f029"
      },
      "source": [
        "y_train.shape, X_train.shape, X_test.shape"
      ],
      "execution_count": null,
      "outputs": [
        {
          "output_type": "execute_result",
          "data": {
            "text/plain": [
              "((375000,), (375000, 22), (200000, 22))"
            ]
          },
          "metadata": {
            "tags": []
          },
          "execution_count": 37
        }
      ]
    },
    {
      "cell_type": "code",
      "metadata": {
        "id": "Ue2GbGmbWJE8"
      },
      "source": [
        "seed = 0\r\n",
        "n_splits = 5\r\n",
        "shuffle=True\r\n",
        "iterations = 50000\r\n",
        "early_stopping_rounds = 400\r\n",
        "verbose_eval = 0\r\n",
        "baseline_rounds = 5\r\n",
        "cb_learning_rate = 0.006\r\n",
        "xgb_learning_rate = 0.01"
      ],
      "execution_count": null,
      "outputs": []
    },
    {
      "cell_type": "code",
      "metadata": {
        "id": "An5ZwTKsWMOc"
      },
      "source": [
        "split = KFold(n_splits=n_splits, shuffle=True, random_state=seed)"
      ],
      "execution_count": null,
      "outputs": []
    },
    {
      "cell_type": "code",
      "metadata": {
        "id": "GyEu4p4dWUg3"
      },
      "source": [
        "cb_params = {'iterations':iterations,\r\n",
        "             'learning_rate':cb_learning_rate,\r\n",
        "             'depth':7,\r\n",
        "             'bootstrap_type':'Bernoulli',\r\n",
        "             'random_strength':1,\r\n",
        "             'min_data_in_leaf':10,\r\n",
        "             'l2_leaf_reg':3,\r\n",
        "             'loss_function':'RMSE', \r\n",
        "             'eval_metric':'RMSE',\r\n",
        "             'random_seed':seed,\r\n",
        "             'grow_policy':'Depthwise',\r\n",
        "             'max_bin':1024, \r\n",
        "             'model_size_reg': 0,\r\n",
        "             'task_type': 'GPU',\r\n",
        "             'od_type':'IncToDec',\r\n",
        "             'od_wait':100,\r\n",
        "             'metric_period':500,\r\n",
        "             'verbose':verbose_eval,\r\n",
        "             'subsample':0.8,\r\n",
        "             'od_pval':1e-10,\r\n",
        "             'max_ctr_complexity': 8,\r\n",
        "             'has_time': False,\r\n",
        "             'simple_ctr' : 'FeatureFreq',\r\n",
        "             'combinations_ctr': 'FeatureFreq'\r\n",
        "            }\r\n",
        "\r\n",
        "xgb_params= {'objective': 'reg:squarederror',\r\n",
        "             'max_depth': 6,\r\n",
        "             'eta': xgb_learning_rate,\r\n",
        "             'colsample_bytree': 0.4,\r\n",
        "             'subsample': 0.6,\r\n",
        "             'reg_alpha' : 6,\r\n",
        "             'min_child_weight': 100,\r\n",
        "             'n_jobs': 2,\r\n",
        "             'seed': 2001,\r\n",
        "             'tree_method': 'gpu_hist',\r\n",
        "             'gpu_id': 0,\r\n",
        "             'predictor': 'gpu_predictor',\r\n",
        "            }\r\n",
        "\r\n",
        "lgbm_params = {'max_depth': 16,\r\n",
        "               'subsample': 0.8032697250789377, \r\n",
        "               'colsample_bytree': 0.21067140508531404,\r\n",
        "               'learning_rate': 0.009867383057779643,\r\n",
        "               'reg_lambda': 10.987474846877767,\r\n",
        "               'reg_alpha': 17.335285595031994,\r\n",
        "               'min_child_samples': 31, \r\n",
        "               'num_leaves': 66,\r\n",
        "               'max_bin': 522,\r\n",
        "               'cat_smooth': 81,\r\n",
        "               'cat_l2': 0.029690334194270022,\r\n",
        "               'metric': 'rmse',\r\n",
        "               'n_jobs': -1, \r\n",
        "               'verbose':-1,\r\n",
        "               'n_estimators': iterations\r\n",
        "              }"
      ],
      "execution_count": null,
      "outputs": []
    },
    {
      "cell_type": "code",
      "metadata": {
        "colab": {
          "base_uri": "https://localhost:8080/"
        },
        "id": "P95bkKlNWV3E",
        "outputId": "eccc97b7-a6e7-43e6-e49d-e151c3e92277"
      },
      "source": [
        "preds_list = []\r\n",
        "oof_cb = np.zeros((len(y_train)))\r\n",
        "oof_xgb = np.zeros((len(y_train)))\r\n",
        "oof_cbx = np.zeros((len(y_train)))\r\n",
        "oof_xgbx = np.zeros((len(y_train)))\r\n",
        "oof_lgb = np.zeros((len(y_train)))\r\n",
        "oof_lgb_incremental = np.zeros((len(y_train)))\r\n",
        "\r\n",
        "for fold, (train_idx, val_idx) in enumerate(split.split(X_train)):\r\n",
        "    print(f'Fold {fold+1}')\r\n",
        "    X_tr = X_train.iloc[train_idx]\r\n",
        "    X_val = X_train.iloc[val_idx]\r\n",
        "    y_tr = y_train.iloc[train_idx]\r\n",
        "    y_val = y_train.iloc[val_idx]\r\n",
        "   \r\n",
        "    #ptrain = Pool(data=X_tr, label=y_tr, cat_features=[0, 1, 2, 3, 4, 5, 6, 7, 8, 9])\r\n",
        "    ptrain = Pool(data=X_tr, label=y_tr)#, cat_features=[0, 1, 2, 3, 4, 5, 6, 7, 8, 9])\r\n",
        "    pvalid = Pool(data=X_val, label=y_val)#, cat_features=[0, 1, 2, 3, 4, 5, 6, 7, 8, 9])\r\n",
        "    ptest = Pool(data=X_test)#, cat_features=[0, 1, 2, 3, 4, 5, 6, 7, 8, 9])\r\n",
        "    CModel = CatBoostRegressor(**cb_params)\r\n",
        "    CModel.fit(ptrain,\r\n",
        "               eval_set=pvalid,\r\n",
        "               use_best_model=True,\r\n",
        "               early_stopping_rounds=early_stopping_rounds)\r\n",
        "    temp_fold_preds = CModel.predict(pvalid)\r\n",
        "    oof_cb[val_idx] = temp_fold_preds\r\n",
        "    first_cb_rmse = mean_squared_error(y_val, temp_fold_preds, squared=False)\r\n",
        "    print(f'RMSE of CB model is {first_cb_rmse}')\r\n",
        "    baseline_preds_tr_cb = CModel.predict(ptrain)\r\n",
        "    baseline_preds_vl_cb = CModel.predict(pvalid)\r\n",
        "    test_preds_cb = CModel.predict(ptest)   \r\n",
        "    \r\n",
        "    xtrain = DMatrix(data=X_tr, label=y_tr, nthread=2)\r\n",
        "    xvalid = DMatrix(data=X_val, label=y_val, nthread=2)\r\n",
        "    xtest = DMatrix(data=X_test, nthread=2)\r\n",
        "    XModel = xgb.train(xgb_params, xtrain,\r\n",
        "                       evals=[(xvalid,'validation')],\r\n",
        "                       verbose_eval=verbose_eval,\r\n",
        "                       early_stopping_rounds=early_stopping_rounds,\r\n",
        "                       xgb_model=None,\r\n",
        "                       num_boost_round=iterations)\r\n",
        "    temp_fold_preds = XModel.predict(xvalid)\r\n",
        "    oof_xgb[val_idx] = temp_fold_preds\r\n",
        "    first_xgb_rmse = mean_squared_error(y_val, temp_fold_preds, squared=False)\r\n",
        "    print(f'RMSE of XGB model is {first_xgb_rmse}')\r\n",
        "    baseline_preds_tr_xgb = XModel.predict(xtrain)\r\n",
        "    baseline_preds_vl_xgb = XModel.predict(xvalid)\r\n",
        "    test_preds_xgb = XModel.predict(xtest)\r\n",
        "    \r\n",
        "#    ltrain = lgbm.Dataset(X_tr, label=y_tr, init_score=None, categorical_feature=[0, 1, 2, 3, 4, 5, 6, 7, 8, 9], free_raw_data=False)\r\n",
        "    ltrain = lgbm.Dataset(X_tr, label=y_tr, init_score=None, free_raw_data=False)\r\n",
        "    lvalid = lgbm.Dataset(X_val, label=y_val, init_score=None, free_raw_data=False)\r\n",
        "    ltest =  lgbm.Dataset(X_test, label=y_val, init_score=None, free_raw_data=False)\r\n",
        "    LModel = lgbm.train(lgbm_params,\r\n",
        "                        train_set=ltrain,\r\n",
        "                        num_boost_round=iterations,\r\n",
        "                        valid_sets=lvalid, \r\n",
        "                        init_model=None,\r\n",
        "                        early_stopping_rounds=early_stopping_rounds,\r\n",
        "                        verbose_eval=verbose_eval)           \r\n",
        "    temp_fold_preds = LModel.predict(X_val)\r\n",
        "    oof_lgb[val_idx] = temp_fold_preds\r\n",
        "    first_lgb_rmse = mean_squared_error(y_val, temp_fold_preds, squared=False)\r\n",
        "    print(f'RMSE of LGBM model is {first_lgb_rmse}')\r\n",
        "    params = lgbm_params.copy()     \r\n",
        "    params.update({'learning_rate': 0.003})\r\n",
        "    for i in range(1, 8):\r\n",
        "        if i > 2:                      \r\n",
        "            params['reg_lambda'] *= 0.9\r\n",
        "            params['reg_alpha']  *= 0.9\r\n",
        "            params['num_leaves'] += 40                   \r\n",
        "        \r\n",
        "        LModel = lgbm.train(lgbm_params,\r\n",
        "                            train_set=ltrain,\r\n",
        "                            num_boost_round=iterations,\r\n",
        "                            valid_sets=lvalid, \r\n",
        "                            init_model=LModel,\r\n",
        "                            early_stopping_rounds=early_stopping_rounds,\r\n",
        "                            verbose_eval=verbose_eval)           \r\n",
        "    temp_fold_preds = LModel.predict(X_val)\r\n",
        "    oof_lgb_incremental[val_idx] = temp_fold_preds\r\n",
        "    second_lgb_rmse = mean_squared_error(y_val, temp_fold_preds, squared=False)\r\n",
        "    print(f'RMSE of LGBM model is {second_lgb_rmse}')\r\n",
        "    print(f'LGBM improvement using Incremental Improvements {first_lgb_rmse - second_lgb_rmse}')\r\n",
        "    baseline_preds_tr_lgb = LModel.predict(X_tr)\r\n",
        "    baseline_preds_vl_lgb = LModel.predict(X_val)\r\n",
        "    test_preds_lgb = LModel.predict(X_test)\r\n",
        "    \r\n",
        "    baseline_train = (baseline_preds_tr_xgb+baseline_preds_tr_lgb+baseline_preds_tr_cb)/3\r\n",
        "    baseline_valid = (baseline_preds_vl_xgb+baseline_preds_vl_lgb+baseline_preds_vl_cb)/3\r\n",
        "    baseline_test = (test_preds_xgb+test_preds_lgb+test_preds_cb)/3\r\n",
        "    \r\n",
        "    for baseline in range(baseline_rounds):\r\n",
        "        print(f'Using prediction of each model as a baseline for the next model round {baseline+1}')\r\n",
        "        #ptrain = Pool(data=X_tr, label=y_tr, cat_features=[0, 1, 2, 3, 4, 5, 6, 7, 8, 9], baseline=baseline_train)\r\n",
        "        ptrain = Pool(data=X_tr, label=y_tr, baseline=baseline_train)\r\n",
        "        pvalid = Pool(data=X_val, label=y_val, baseline=baseline_valid)\r\n",
        "        ptest = Pool(data=X_test, baseline=baseline_test)\r\n",
        "        cb_params_ = cb_params.copy()\r\n",
        "        cb_params_.update({'learning_rate': cb_learning_rate*(1/(baseline+1))})\r\n",
        "        CModel = CatBoostRegressor(**cb_params_)\r\n",
        "        CModel.fit(ptrain, \r\n",
        "                   eval_set=pvalid,\r\n",
        "                   use_best_model=True,\r\n",
        "                   early_stopping_rounds=early_stopping_rounds)\r\n",
        "        temp_fold_preds = CModel.predict(pvalid)\r\n",
        "        oof_cbx[val_idx] = temp_fold_preds\r\n",
        "        second_cb_rmse = mean_squared_error(y_val, temp_fold_preds, squared=False)\r\n",
        "        print(f'RMSE of CB model with baseline round {baseline+1} {second_cb_rmse}')   \r\n",
        "        baseline_train = CModel.predict(ptrain)\r\n",
        "        baseline_valid = CModel.predict(pvalid)\r\n",
        "        baseline_test = CModel.predict(ptest)\r\n",
        "    \r\n",
        "        xtrain = DMatrix(data=X_tr, label=y_tr, base_margin=baseline_train)\r\n",
        "        xvalid = DMatrix(data=X_val, label=y_val, base_margin=baseline_valid)\r\n",
        "        xtest =  DMatrix(data=X_test, base_margin=baseline_test)\r\n",
        "        xgb_params_ = xgb_params.copy()\r\n",
        "        xgb_params_.update({'learning_rate': xgb_learning_rate*(1/(baseline+1))})\r\n",
        "        XModel = xgb.train(xgb_params_, xtrain,\r\n",
        "                           evals=[(xvalid,'validation')],\r\n",
        "                           verbose_eval=verbose_eval,\r\n",
        "                           early_stopping_rounds=early_stopping_rounds,\r\n",
        "                           xgb_model=None,\r\n",
        "                           num_boost_round=iterations)\r\n",
        "        temp_fold_preds = XModel.predict(xvalid)\r\n",
        "        oof_xgbx[val_idx] = temp_fold_preds\r\n",
        "        second_xgb_rmse = mean_squared_error(y_val, temp_fold_preds, squared=False)\r\n",
        "        print(f'RMSE of XGB model with baseline round {baseline+1} {second_xgb_rmse}')\r\n",
        "        baseline_train = XModel.predict(xtrain)\r\n",
        "        baseline_valid = XModel.predict(xvalid)\r\n",
        "        baseline_test = XModel.predict(xtest)          \r\n",
        "        print(f'CB Improvement  using Baseline round {baseline+1}: {first_cb_rmse - second_cb_rmse}')\r\n",
        "        print(f'XGB Improvement using Baseline round {baseline+1}: {first_xgb_rmse - second_xgb_rmse}')\r\n",
        "        first_cb_rmse = second_cb_rmse\r\n",
        "        first_xgb_rmse = second_xgb_rmse\r\n",
        "    print('-' * 100)\r\n",
        "    print('',end='\\n')\r\n",
        "    preds_list.append(XModel.predict(xtest))"
      ],
      "execution_count": null,
      "outputs": [
        {
          "output_type": "stream",
          "text": [
            "Fold 1\n",
            "RMSE of CB model is 0.8023695250743932\n",
            "RMSE of XGB model is 0.8212933745535275\n",
            "RMSE of LGBM model is 0.8206118209327047\n",
            "RMSE of LGBM model is 0.8206118209327047\n",
            "LGBM improvement using Incremental Improvements 0.0\n",
            "Using prediction of each model as a baseline for the next model round 1\n",
            "RMSE of CB model with baseline round 1 0.7992933549917081\n",
            "RMSE of XGB model with baseline round 1 0.7990400064798832\n",
            "CB Improvement  using Baseline round 1: 0.0030761700826851257\n",
            "XGB Improvement using Baseline round 1: 0.02225336807364431\n",
            "Using prediction of each model as a baseline for the next model round 2\n",
            "RMSE of CB model with baseline round 2 0.7954330717976622\n",
            "RMSE of XGB model with baseline round 2 0.795410402843295\n",
            "CB Improvement  using Baseline round 2: 0.003860283194045855\n",
            "XGB Improvement using Baseline round 2: 0.0036296036365881523\n",
            "Using prediction of each model as a baseline for the next model round 3\n",
            "RMSE of CB model with baseline round 3 0.7935888660006001\n",
            "RMSE of XGB model with baseline round 3 0.7935832426306366\n",
            "CB Improvement  using Baseline round 3: 0.0018442057970621262\n",
            "XGB Improvement using Baseline round 3: 0.0018271602126583852\n",
            "Using prediction of each model as a baseline for the next model round 4\n",
            "RMSE of CB model with baseline round 4 0.7924503132599433\n",
            "RMSE of XGB model with baseline round 4 0.792449950530386\n",
            "CB Improvement  using Baseline round 4: 0.001138552740656773\n",
            "XGB Improvement using Baseline round 4: 0.0011332921002505936\n",
            "Using prediction of each model as a baseline for the next model round 5\n",
            "RMSE of CB model with baseline round 5 0.791661464910112\n",
            "RMSE of XGB model with baseline round 5 0.7916614025457284\n",
            "CB Improvement  using Baseline round 5: 0.0007888483498312837\n",
            "XGB Improvement using Baseline round 5: 0.0007885479846576615\n",
            "----------------------------------------------------------------------------------------------------\n",
            "\n",
            "Fold 2\n",
            "RMSE of CB model is 0.8055557758441844\n",
            "RMSE of XGB model is 0.8234846783002352\n",
            "RMSE of LGBM model is 0.8235907419360214\n",
            "RMSE of LGBM model is 0.8235911887920315\n",
            "LGBM improvement using Incremental Improvements -4.4685601008342957e-07\n",
            "Using prediction of each model as a baseline for the next model round 1\n",
            "RMSE of CB model with baseline round 1 0.8022638732085958\n",
            "RMSE of XGB model with baseline round 1 0.8018169023665942\n",
            "CB Improvement  using Baseline round 1: 0.0032919026355885395\n",
            "XGB Improvement using Baseline round 1: 0.021667775933640998\n",
            "Using prediction of each model as a baseline for the next model round 2\n",
            "RMSE of CB model with baseline round 2 0.7986704775751973\n",
            "RMSE of XGB model with baseline round 2 0.7986718161912687\n",
            "CB Improvement  using Baseline round 2: 0.003593395633398555\n",
            "XGB Improvement using Baseline round 2: 0.0031450861753254955\n",
            "Using prediction of each model as a baseline for the next model round 3\n",
            "RMSE of CB model with baseline round 3 0.7971190973362607\n",
            "RMSE of XGB model with baseline round 3 0.7971210085845144\n",
            "CB Improvement  using Baseline round 3: 0.0015513802389365283\n",
            "XGB Improvement using Baseline round 3: 0.0015508076067543008\n",
            "Using prediction of each model as a baseline for the next model round 4\n",
            "RMSE of CB model with baseline round 4 0.7961562195491335\n",
            "RMSE of XGB model with baseline round 4 0.7961571380283335\n",
            "CB Improvement  using Baseline round 4: 0.0009628777871272254\n",
            "XGB Improvement using Baseline round 4: 0.0009638705561808569\n",
            "Using prediction of each model as a baseline for the next model round 5\n"
          ],
          "name": "stdout"
        }
      ]
    },
    {
      "cell_type": "code",
      "metadata": {
        "id": "xxyCpQWbWteT"
      },
      "source": [
        "first_cb_rmse = mean_squared_error(y_train, oof_cb, squared=False)\r\n",
        "first_xgb_rmse = mean_squared_error(y_train, oof_xgb, squared=False)\r\n",
        "first_lgb_rmse = mean_squared_error(y_train, oof_lgb, squared=False)\r\n",
        "second_cb_rmse = mean_squared_error(y_train, oof_cbx, squared=False)\r\n",
        "second_xgb_rmse = mean_squared_error(y_train, oof_xgbx, squared=False)\r\n",
        "second_lgb_rmse = mean_squared_error(y_train, oof_lgb_incremental, squared=False)\r\n",
        "print(f'RMSE for CB model is {first_cb_rmse}')\r\n",
        "print(f'RMSE for XGB model is {first_xgb_rmse}')\r\n",
        "print(f'RMSE for LGBM model is {first_lgb_rmse}')\r\n",
        "print(f'RMSE for CB model with XGB baseline is {second_cb_rmse}')\r\n",
        "print(f'RMSE for XGB model with CB baseline is {second_xgb_rmse}')\r\n",
        "print(f'RMSE for LGBM model with Incremental Improvement is {second_lgb_rmse}')\r\n",
        "print(f'RMSE for CB and XGB blend is {mean_squared_error(y_train, (oof_cbx+oof_xgbx)/2, squared=False)}')\r\n",
        "print(f'RMSE for CB, XGB and LGBM blend is {mean_squared_error(y_train, (oof_cbx+oof_xgbx+oof_lgb_incremental)/3, squared=False)}')"
      ],
      "execution_count": null,
      "outputs": []
    },
    {
      "cell_type": "markdown",
      "metadata": {
        "id": "AYkDv0kYpfg_"
      },
      "source": [
        "Results from Baseline:\r\n",
        "\r\n",
        "+ RMSE for CB model is 0.8433047853632898\r\n",
        "+ RMSE for XGB model is 0.8423632223592155\r\n",
        "+ RMSE for LGBM model is 0.8421403134782113\r\n",
        "+ RMSE for CB model with XGB baseline is 0.8421404253442772\r\n",
        "+ RMSE for XGB model with CB baseline is 0.8421611646170246\r\n",
        "+ RMSE for LGBM model with Incremental Improvement is 0.8422742003236688\r\n",
        "+ RMSE for CB and XGB blend is 0.8421505292079217\r\n",
        "+ RMSE for CB, XGB and LGBM blend is 0.8419987140203177"
      ]
    },
    {
      "cell_type": "code",
      "metadata": {
        "id": "CWyIEeK3KkGz"
      },
      "source": [
        "#preds_list.append(LModel.predict(X_test))\r\n",
        "#RMSE for CB model is 0.8406611074247011\r\n",
        "#RMSE for XGB model is 0.8418742386871497\r\n",
        "#RMSE for LGBM model is 0.8421288059737446\r\n",
        "#RMSE for CB model with XGB baseline is 0.8409397575458377\r\n",
        "#RMSE for XGB model with CB baseline is 0.8409553342782192\r\n",
        "#RMSE for LGBM model with Incremental Improvement is 0.8422944045294559\r\n",
        "#RMSE for CB and XGB blend is 0.8409473706675149\r\n",
        "#RMSE for CB, XGB and LGBM blend is 0.841131585517756"
      ],
      "execution_count": null,
      "outputs": []
    },
    {
      "cell_type": "code",
      "metadata": {
        "id": "3AmRdr0-VP9R"
      },
      "source": [
        " #preds_list.append(LModel.predict(xtest))"
      ],
      "execution_count": null,
      "outputs": []
    },
    {
      "cell_type": "code",
      "metadata": {
        "id": "Oh4WHpFTWut1"
      },
      "source": [
        "preds = np.mean(preds_list, axis=0)\r\n",
        "submission_mean = pd.DataFrame({'id':test.index,'target':preds})\r\n",
        "#submission_mean = pd.DataFrame({'id':test.index,'target':preds_list})\r\n",
        "submission_mean.to_csv('submission_mean_base_FeatureCompressed_dropped_sampled_v04.csv', index=False)\r\n",
        "submission_mean.head()"
      ],
      "execution_count": null,
      "outputs": []
    },
    {
      "cell_type": "code",
      "metadata": {
        "id": "3joagNj1wGIc"
      },
      "source": [
        "from google.colab import files\r\n",
        "files.download('submission_mean_base_FeatureCompressed_dropped_sampled_v04.csv') "
      ],
      "execution_count": null,
      "outputs": []
    },
    {
      "cell_type": "code",
      "metadata": {
        "id": "p5QMF3vLnsrJ"
      },
      "source": [
        "\r\n",
        "id\ttarget\r\n",
        "0\t0\t7.646254\r\n",
        "1\t5\t7.785642\r\n",
        "2\t15\t7.597903\r\n",
        "3\t16\t7.506373\r\n",
        "4\t17\t7.297190"
      ],
      "execution_count": null,
      "outputs": []
    },
    {
      "cell_type": "code",
      "metadata": {
        "colab": {
          "base_uri": "https://localhost:8080/"
        },
        "id": "3vY2VAfu6iDf",
        "outputId": "56249e03-fa2c-49c5-d4bb-4acf8db8382f"
      },
      "source": [
        "temp_train = submission_mean.copy()\r\n",
        "temp_train = temp_train.drop(temp_train[(temp_train.target < 5) & (temp_train.target > 10)].index)\r\n",
        "temp_train.shape"
      ],
      "execution_count": null,
      "outputs": [
        {
          "output_type": "execute_result",
          "data": {
            "text/plain": [
              "(200000, 2)"
            ]
          },
          "metadata": {
            "tags": []
          },
          "execution_count": 31
        }
      ]
    },
    {
      "cell_type": "markdown",
      "metadata": {
        "id": "pmV-U-hdXK2h"
      },
      "source": [
        "Another nice idea for more overfit. Blending with top public blend!\r\n",
        "https://www.kaggle.com/somayyehgholami/comparative-method-tabular-feb-301"
      ]
    },
    {
      "cell_type": "code",
      "metadata": {
        "colab": {
          "base_uri": "https://localhost:8080/",
          "height": 204
        },
        "id": "rX5BdkMXXEdL",
        "outputId": "3ae8dce3-81aa-4d2a-a763-a837677f3655"
      },
      "source": [
        "sub_best = pd.read_csv('sample_submission.csv')\r\n",
        "sub_final = submission_mean.copy()\r\n",
        "sub_final['target'] = sub_best.target * 0.9 + submission_mean.target * 0.1\r\n",
        "sub_final.to_csv('submission_blend_mean_base1.csv', index=False)\r\n",
        "sub_final.head()"
      ],
      "execution_count": null,
      "outputs": [
        {
          "output_type": "execute_result",
          "data": {
            "text/html": [
              "<div>\n",
              "<style scoped>\n",
              "    .dataframe tbody tr th:only-of-type {\n",
              "        vertical-align: middle;\n",
              "    }\n",
              "\n",
              "    .dataframe tbody tr th {\n",
              "        vertical-align: top;\n",
              "    }\n",
              "\n",
              "    .dataframe thead th {\n",
              "        text-align: right;\n",
              "    }\n",
              "</style>\n",
              "<table border=\"1\" class=\"dataframe\">\n",
              "  <thead>\n",
              "    <tr style=\"text-align: right;\">\n",
              "      <th></th>\n",
              "      <th>id</th>\n",
              "      <th>target</th>\n",
              "    </tr>\n",
              "  </thead>\n",
              "  <tbody>\n",
              "    <tr>\n",
              "      <th>0</th>\n",
              "      <td>0</td>\n",
              "      <td>1.213035</td>\n",
              "    </tr>\n",
              "    <tr>\n",
              "      <th>1</th>\n",
              "      <td>5</td>\n",
              "      <td>1.226492</td>\n",
              "    </tr>\n",
              "    <tr>\n",
              "      <th>2</th>\n",
              "      <td>15</td>\n",
              "      <td>1.208095</td>\n",
              "    </tr>\n",
              "    <tr>\n",
              "      <th>3</th>\n",
              "      <td>16</td>\n",
              "      <td>1.197074</td>\n",
              "    </tr>\n",
              "    <tr>\n",
              "      <th>4</th>\n",
              "      <td>17</td>\n",
              "      <td>1.179027</td>\n",
              "    </tr>\n",
              "  </tbody>\n",
              "</table>\n",
              "</div>"
            ],
            "text/plain": [
              "   id    target\n",
              "0   0  1.213035\n",
              "1   5  1.226492\n",
              "2  15  1.208095\n",
              "3  16  1.197074\n",
              "4  17  1.179027"
            ]
          },
          "metadata": {
            "tags": []
          },
          "execution_count": 21
        }
      ]
    }
  ]
}